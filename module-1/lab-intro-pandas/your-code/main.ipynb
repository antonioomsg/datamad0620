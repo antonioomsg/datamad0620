{
 "cells": [
  {
   "cell_type": "markdown",
   "metadata": {},
   "source": [
    "# Introduction to Pandas Lab\n",
    "\n",
    "Complete the following set of exercises to solidify your knowledge of Pandas fundamentals."
   ]
  },
  {
   "cell_type": "markdown",
   "metadata": {},
   "source": [
    "### 1. Import Numpy and Pandas and alias them to `np` and `pd` respectively."
   ]
   },
   {
    "cell_type": "code",
    "execution_count": null,
    "execution_count": 9,
    "metadata": {},
    "outputs": [],
    "source": []
    "source": [
     "import numpy as np\n",
     "import pandas as pd"
    ]
   },
   {
    "cell_type": "markdown",
 @@ -32,7 +35,7 @@
   },
   {
    "cell_type": "code",
    "execution_count": null,
    "execution_count": 10,
    "metadata": {},
    "outputs": [],
    "source": [
 @@ -41,10 +44,100 @@
   },
   {
    "cell_type": "code",
    "execution_count": null,
    "execution_count": 13,
    "metadata": {},
    "outputs": [],
    "source": []
    "outputs": [
     {
      "data": {
       "text/html": [
        "<div>\n",
        "<style scoped>\n",
        "    .dataframe tbody tr th:only-of-type {\n",
        "        vertical-align: middle;\n",
        "    }\n",
        "\n",
        "    .dataframe tbody tr th {\n",
        "        vertical-align: top;\n",
        "    }\n",
        "\n",
        "    .dataframe thead th {\n",
        "        text-align: right;\n",
        "    }\n",
        "</style>\n",
        "<table border=\"1\" class=\"dataframe\">\n",
        "  <thead>\n",
        "    <tr style=\"text-align: right;\">\n",
        "      <th></th>\n",
        "      <th>0</th>\n",
        "    </tr>\n",
        "  </thead>\n",
        "  <tbody>\n",
        "    <tr>\n",
        "      <th>0</th>\n",
        "      <td>5.7</td>\n",
        "    </tr>\n",
        "    <tr>\n",
        "      <th>1</th>\n",
        "      <td>75.2</td>\n",
        "    </tr>\n",
        "    <tr>\n",
        "      <th>2</th>\n",
        "      <td>74.4</td>\n",
        "    </tr>\n",
        "    <tr>\n",
        "      <th>3</th>\n",
        "      <td>84.0</td>\n",
        "    </tr>\n",
        "    <tr>\n",
        "      <th>4</th>\n",
        "      <td>66.5</td>\n",
        "    </tr>\n",
        "    <tr>\n",
        "      <th>5</th>\n",
        "      <td>66.3</td>\n",
        "    </tr>\n",
        "    <tr>\n",
        "      <th>6</th>\n",
        "      <td>55.8</td>\n",
        "    </tr>\n",
        "    <tr>\n",
        "      <th>7</th>\n",
        "      <td>75.7</td>\n",
        "    </tr>\n",
        "    <tr>\n",
        "      <th>8</th>\n",
        "      <td>29.1</td>\n",
        "    </tr>\n",
        "    <tr>\n",
        "      <th>9</th>\n",
        "      <td>43.7</td>\n",
        "    </tr>\n",
        "  </tbody>\n",
        "</table>\n",
        "</div>"
       ],
       "text/plain": [
        "      0\n",
        "0   5.7\n",
        "1  75.2\n",
        "2  74.4\n",
        "3  84.0\n",
        "4  66.5\n",
        "5  66.3\n",
        "6  55.8\n",
        "7  75.7\n",
        "8  29.1\n",
        "9  43.7"
       ]
      },
      "metadata": {},
      "output_type": "display_data"
     }
    ],
    "source": [
     "pdlst=pd.DataFrame(lst)\n",
     "display(pdlst)"
    ]
   },
   {
    "cell_type": "markdown",
 @@ -57,10 +150,23 @@
   },
   {
    "cell_type": "code",
    "execution_count": null,
    "execution_count": 17,
    "metadata": {},
    "outputs": [],
    "source": []
    "outputs": [
     {
      "data": {
       "text/plain": [
        "array([75.2])"
       ]
      },
      "execution_count": 17,
      "metadata": {},
      "output_type": "execute_result"
     }
    ],
    "source": [
     "pdlst.values[1]"
    ]
   },
   {
    "cell_type": "markdown",
 @@ -71,7 +177,7 @@
   },
   {
    "cell_type": "code",
    "execution_count": null,
    "execution_count": 18,
    "metadata": {},
    "outputs": [],
    "source": [
 @@ -89,10 +195,144 @@
   },
   {
    "cell_type": "code",
    "execution_count": null,
    "execution_count": 23,
    "metadata": {},
    "outputs": [],
    "source": []
    "outputs": [
     {
      "data": {
       "text/html": [
        "<div>\n",
        "<style scoped>\n",
        "    .dataframe tbody tr th:only-of-type {\n",
        "        vertical-align: middle;\n",
        "    }\n",
        "\n",
        "    .dataframe tbody tr th {\n",
        "        vertical-align: top;\n",
        "    }\n",
        "\n",
        "    .dataframe thead th {\n",
        "        text-align: right;\n",
        "    }\n",
        "</style>\n",
        "<table border=\"1\" class=\"dataframe\">\n",
        "  <thead>\n",
        "    <tr style=\"text-align: right;\">\n",
        "      <th></th>\n",
        "      <th>0</th>\n",
        "      <th>1</th>\n",
        "      <th>2</th>\n",
        "      <th>3</th>\n",
        "      <th>4</th>\n",
        "    </tr>\n",
        "  </thead>\n",
        "  <tbody>\n",
        "    <tr>\n",
        "      <th>0</th>\n",
        "      <td>53.1</td>\n",
        "      <td>95.0</td>\n",
        "      <td>67.5</td>\n",
        "      <td>35.0</td>\n",
        "      <td>78.4</td>\n",
        "    </tr>\n",
        "    <tr>\n",
        "      <th>1</th>\n",
        "      <td>61.3</td>\n",
        "      <td>40.8</td>\n",
        "      <td>30.8</td>\n",
        "      <td>37.8</td>\n",
        "      <td>87.6</td>\n",
        "    </tr>\n",
        "    <tr>\n",
        "      <th>2</th>\n",
        "      <td>20.6</td>\n",
        "      <td>73.2</td>\n",
        "      <td>44.2</td>\n",
        "      <td>14.6</td>\n",
        "      <td>91.8</td>\n",
        "    </tr>\n",
        "    <tr>\n",
        "      <th>3</th>\n",
        "      <td>57.4</td>\n",
        "      <td>0.1</td>\n",
        "      <td>96.1</td>\n",
        "      <td>4.2</td>\n",
        "      <td>69.5</td>\n",
        "    </tr>\n",
        "    <tr>\n",
        "      <th>4</th>\n",
        "      <td>83.6</td>\n",
        "      <td>20.5</td>\n",
        "      <td>85.4</td>\n",
        "      <td>22.8</td>\n",
        "      <td>35.9</td>\n",
        "    </tr>\n",
        "    <tr>\n",
        "      <th>5</th>\n",
        "      <td>49.0</td>\n",
        "      <td>69.0</td>\n",
        "      <td>0.1</td>\n",
        "      <td>31.8</td>\n",
        "      <td>89.1</td>\n",
        "    </tr>\n",
        "    <tr>\n",
        "      <th>6</th>\n",
        "      <td>23.3</td>\n",
        "      <td>40.7</td>\n",
        "      <td>95.0</td>\n",
        "      <td>83.8</td>\n",
        "      <td>26.9</td>\n",
        "    </tr>\n",
        "    <tr>\n",
        "      <th>7</th>\n",
        "      <td>27.6</td>\n",
        "      <td>26.4</td>\n",
        "      <td>53.8</td>\n",
        "      <td>88.8</td>\n",
        "      <td>68.5</td>\n",
        "    </tr>\n",
        "    <tr>\n",
        "      <th>8</th>\n",
        "      <td>96.6</td>\n",
        "      <td>96.4</td>\n",
        "      <td>53.4</td>\n",
        "      <td>72.4</td>\n",
        "      <td>50.1</td>\n",
        "    </tr>\n",
        "    <tr>\n",
        "      <th>9</th>\n",
        "      <td>73.7</td>\n",
        "      <td>39.0</td>\n",
        "      <td>43.2</td>\n",
        "      <td>81.6</td>\n",
        "      <td>34.7</td>\n",
        "    </tr>\n",
        "  </tbody>\n",
        "</table>\n",
        "</div>"
       ],
       "text/plain": [
        "      0     1     2     3     4\n",
        "0  53.1  95.0  67.5  35.0  78.4\n",
        "1  61.3  40.8  30.8  37.8  87.6\n",
        "2  20.6  73.2  44.2  14.6  91.8\n",
        "3  57.4   0.1  96.1   4.2  69.5\n",
        "4  83.6  20.5  85.4  22.8  35.9\n",
        "5  49.0  69.0   0.1  31.8  89.1\n",
        "6  23.3  40.7  95.0  83.8  26.9\n",
        "7  27.6  26.4  53.8  88.8  68.5\n",
        "8  96.6  96.4  53.4  72.4  50.1\n",
        "9  73.7  39.0  43.2  81.6  34.7"
       ]
      },
      "metadata": {},
      "output_type": "display_data"
     }
    ],
    "source": [
     "bdf=pd.DataFrame(b)\n",
     "display(bdf)"
    ]
   },
   {
    "cell_type": "markdown",
 @@ -103,7 +343,7 @@
   },
   {
    "cell_type": "code",
    "execution_count": null,
    "execution_count": 26,
    "metadata": {},
    "outputs": [],
    "source": [
 @@ -112,10 +352,51 @@
   },
   {
    "cell_type": "code",
    "execution_count": null,
    "execution_count": 38,
    "metadata": {},
    "outputs": [],
    "source": []
    "outputs": [
     {
      "name": "stdout",
      "output_type": "stream",
      "text": [
       "   Score_1  Score_2  Score_3  Score_4  Score_5\n",
       "0     53.1     95.0     67.5     35.0     78.4\n",
       "1     61.3     40.8     30.8     37.8     87.6\n",
       "2     20.6     73.2     44.2     14.6     91.8\n",
       "3     57.4      0.1     96.1      4.2     69.5\n",
       "4     83.6     20.5     85.4     22.8     35.9\n",
       "5     49.0     69.0      0.1     31.8     89.1\n",
       "6     23.3     40.7     95.0     83.8     26.9\n",
       "7     27.6     26.4     53.8     88.8     68.5\n",
       "8     96.6     96.4     53.4     72.4     50.1\n",
       "9     73.7     39.0     43.2     81.6     34.7\n"
      ]
     }
    ],
    "source": [
     "bdf.columns = [i for i in colnames]\n",
     "print(bdf)"
    ]
   },
   {
    "cell_type": "code",
    "execution_count": 32,
    "metadata": {},
    "outputs": [
     {
      "data": {
       "text/plain": [
        "RangeIndex(start=0, stop=5, step=1)"
       ]
      },
      "execution_count": 32,
      "metadata": {},
      "output_type": "execute_result"
     }
    ],
    "source": [
     "bdf.columns"
    ]
   },
   {
    "cell_type": "markdown",
 @@ -126,10 +407,122 @@
   },
   {
    "cell_type": "code",
    "execution_count": null,
    "execution_count": 64,
    "metadata": {},
    "outputs": [],
    "source": []
    "outputs": [
     {
      "data": {
       "text/html": [
        "<div>\n",
        "<style scoped>\n",
        "    .dataframe tbody tr th:only-of-type {\n",
        "        vertical-align: middle;\n",
        "    }\n",
        "\n",
        "    .dataframe tbody tr th {\n",
        "        vertical-align: top;\n",
        "    }\n",
        "\n",
        "    .dataframe thead th {\n",
        "        text-align: right;\n",
        "    }\n",
        "</style>\n",
        "<table border=\"1\" class=\"dataframe\">\n",
        "  <thead>\n",
        "    <tr style=\"text-align: right;\">\n",
        "      <th></th>\n",
        "      <th>Score_1</th>\n",
        "      <th>Score_3</th>\n",
        "      <th>Score_5</th>\n",
        "    </tr>\n",
        "  </thead>\n",
        "  <tbody>\n",
        "    <tr>\n",
        "      <th>0</th>\n",
        "      <td>53.1</td>\n",
        "      <td>67.5</td>\n",
        "      <td>78.4</td>\n",
        "    </tr>\n",
        "    <tr>\n",
        "      <th>1</th>\n",
        "      <td>61.3</td>\n",
        "      <td>30.8</td>\n",
        "      <td>87.6</td>\n",
        "    </tr>\n",
        "    <tr>\n",
        "      <th>2</th>\n",
        "      <td>20.6</td>\n",
        "      <td>44.2</td>\n",
        "      <td>91.8</td>\n",
        "    </tr>\n",
        "    <tr>\n",
        "      <th>3</th>\n",
        "      <td>57.4</td>\n",
        "      <td>96.1</td>\n",
        "      <td>69.5</td>\n",
        "    </tr>\n",
        "    <tr>\n",
        "      <th>4</th>\n",
        "      <td>83.6</td>\n",
        "      <td>85.4</td>\n",
        "      <td>35.9</td>\n",
        "    </tr>\n",
        "    <tr>\n",
        "      <th>5</th>\n",
        "      <td>49.0</td>\n",
        "      <td>0.1</td>\n",
        "      <td>89.1</td>\n",
        "    </tr>\n",
        "    <tr>\n",
        "      <th>6</th>\n",
        "      <td>23.3</td>\n",
        "      <td>95.0</td>\n",
        "      <td>26.9</td>\n",
        "    </tr>\n",
        "    <tr>\n",
        "      <th>7</th>\n",
        "      <td>27.6</td>\n",
        "      <td>53.8</td>\n",
        "      <td>68.5</td>\n",
        "    </tr>\n",
        "    <tr>\n",
        "      <th>8</th>\n",
        "      <td>96.6</td>\n",
        "      <td>53.4</td>\n",
        "      <td>50.1</td>\n",
        "    </tr>\n",
        "    <tr>\n",
        "      <th>9</th>\n",
        "      <td>73.7</td>\n",
        "      <td>43.2</td>\n",
        "      <td>34.7</td>\n",
        "    </tr>\n",
        "  </tbody>\n",
        "</table>\n",
        "</div>"
       ],
       "text/plain": [
        "   Score_1  Score_3  Score_5\n",
        "0     53.1     67.5     78.4\n",
        "1     61.3     30.8     87.6\n",
        "2     20.6     44.2     91.8\n",
        "3     57.4     96.1     69.5\n",
        "4     83.6     85.4     35.9\n",
        "5     49.0      0.1     89.1\n",
        "6     23.3     95.0     26.9\n",
        "7     27.6     53.8     68.5\n",
        "8     96.6     53.4     50.1\n",
        "9     73.7     43.2     34.7"
       ]
      },
      "metadata": {},
      "output_type": "display_data"
     }
    ],
    "source": [
     "sb=bdf[[\"Score_1\",\"Score_3\",\"Score_5\"]]\n",
     "display(sb)"
    ]
   },
   {
    "cell_type": "markdown",
 @@ -140,10 +533,21 @@
   },
   {
    "cell_type": "code",
    "execution_count": null,
    "execution_count": 80,
    "metadata": {},
    "outputs": [],
    "source": []
    "outputs": [
     {
      "name": "stdout",
      "output_type": "stream",
      "text": [
       "56.95000000000001\n"
      ]
     }
    ],
    "source": [
     "import statistics\n",
     "print(bdf['Score_3'].mean())\n"
    ]
   },
   {
    "cell_type": "markdown",
 @@ -154,10 +558,20 @@
   },
   {
    "cell_type": "code",
    "execution_count": null,
    "execution_count": 82,
    "metadata": {},
    "outputs": [],
    "source": []
    "outputs": [
     {
      "name": "stdout",
      "output_type": "stream",
      "text": [
       "88.8\n"
      ]
     }
    ],
    "source": [
     "print(max(bdf[\"Score_4\"]))"
    ]
   },
   {
    "cell_type": "markdown",
 @@ -168,10 +582,21 @@
   },
   {
    "cell_type": "code",
    "execution_count": null,
    "execution_count": 84,
    "metadata": {},
    "outputs": [],
    "source": []
    "outputs": [
     {
      "name": "stdout",
      "output_type": "stream",
      "text": [
       "40.75\n"
      ]
     }
    ],
    "source": [
     "import statistics\n",
     "print(bdf['Score_2'].median())"
    ]
   },
   {
    "cell_type": "markdown",
 @@ -182,7 +607,7 @@
   },
   {
    "cell_type": "code",
    "execution_count": null,
    "execution_count": 86,
    "metadata": {},
    "outputs": [],
    "source": [
 @@ -203,10 +628,133 @@
   },
   {
    "cell_type": "code",
    "execution_count": null,
    "execution_count": 88,
    "metadata": {},
    "outputs": [],
    "source": []
    "outputs": [
     {
      "data": {
       "text/html": [
        "<div>\n",
        "<style scoped>\n",
        "    .dataframe tbody tr th:only-of-type {\n",
        "        vertical-align: middle;\n",
        "    }\n",
        "\n",
        "    .dataframe tbody tr th {\n",
        "        vertical-align: top;\n",
        "    }\n",
        "\n",
        "    .dataframe thead th {\n",
        "        text-align: right;\n",
        "    }\n",
        "</style>\n",
        "<table border=\"1\" class=\"dataframe\">\n",
        "  <thead>\n",
        "    <tr style=\"text-align: right;\">\n",
        "      <th></th>\n",
        "      <th>Description</th>\n",
        "      <th>Quantity</th>\n",
        "      <th>UnitPrice</th>\n",
        "      <th>Revenue</th>\n",
        "    </tr>\n",
        "  </thead>\n",
        "  <tbody>\n",
        "    <tr>\n",
        "      <th>0</th>\n",
        "      <td>LUNCH BAG APPLE DESIGN</td>\n",
        "      <td>1</td>\n",
        "      <td>1.65</td>\n",
        "      <td>1.65</td>\n",
        "    </tr>\n",
        "    <tr>\n",
        "      <th>1</th>\n",
        "      <td>SET OF 60 VINTAGE LEAF CAKE CASES</td>\n",
        "      <td>24</td>\n",
        "      <td>0.55</td>\n",
        "      <td>13.20</td>\n",
        "    </tr>\n",
        "    <tr>\n",
        "      <th>2</th>\n",
        "      <td>RIBBON REEL STRIPES DESIGN</td>\n",
        "      <td>1</td>\n",
        "      <td>1.65</td>\n",
        "      <td>1.65</td>\n",
        "    </tr>\n",
        "    <tr>\n",
        "      <th>3</th>\n",
        "      <td>WORLD WAR 2 GLIDERS ASSTD DESIGNS</td>\n",
        "      <td>2880</td>\n",
        "      <td>0.18</td>\n",
        "      <td>518.40</td>\n",
        "    </tr>\n",
        "    <tr>\n",
        "      <th>4</th>\n",
        "      <td>PLAYING CARDS JUBILEE UNION JACK</td>\n",
        "      <td>2</td>\n",
        "      <td>1.25</td>\n",
        "      <td>2.50</td>\n",
        "    </tr>\n",
        "    <tr>\n",
        "      <th>5</th>\n",
        "      <td>POPCORN HOLDER</td>\n",
        "      <td>7</td>\n",
        "      <td>0.85</td>\n",
        "      <td>5.95</td>\n",
        "    </tr>\n",
        "    <tr>\n",
        "      <th>6</th>\n",
        "      <td>BOX OF VINTAGE ALPHABET BLOCKS</td>\n",
        "      <td>1</td>\n",
        "      <td>11.95</td>\n",
        "      <td>11.95</td>\n",
        "    </tr>\n",
        "    <tr>\n",
        "      <th>7</th>\n",
        "      <td>PARTY BUNTING</td>\n",
        "      <td>4</td>\n",
        "      <td>4.95</td>\n",
        "      <td>19.80</td>\n",
        "    </tr>\n",
        "    <tr>\n",
        "      <th>8</th>\n",
        "      <td>JAZZ HEARTS ADDRESS BOOK</td>\n",
        "      <td>10</td>\n",
        "      <td>0.19</td>\n",
        "      <td>1.90</td>\n",
        "    </tr>\n",
        "    <tr>\n",
        "      <th>9</th>\n",
        "      <td>SET OF 4 SANTA PLACE SETTINGS</td>\n",
        "      <td>48</td>\n",
        "      <td>1.25</td>\n",
        "      <td>60.00</td>\n",
        "    </tr>\n",
        "  </tbody>\n",
        "</table>\n",
        "</div>"
       ],
       "text/plain": [
        "                          Description  Quantity  UnitPrice  Revenue\n",
        "0              LUNCH BAG APPLE DESIGN         1       1.65     1.65\n",
        "1  SET OF 60 VINTAGE LEAF CAKE CASES         24       0.55    13.20\n",
        "2         RIBBON REEL STRIPES DESIGN          1       1.65     1.65\n",
        "3   WORLD WAR 2 GLIDERS ASSTD DESIGNS      2880       0.18   518.40\n",
        "4    PLAYING CARDS JUBILEE UNION JACK         2       1.25     2.50\n",
        "5                      POPCORN HOLDER         7       0.85     5.95\n",
        "6      BOX OF VINTAGE ALPHABET BLOCKS         1      11.95    11.95\n",
        "7                       PARTY BUNTING         4       4.95    19.80\n",
        "8            JAZZ HEARTS ADDRESS BOOK        10       0.19     1.90\n",
        "9       SET OF 4 SANTA PLACE SETTINGS        48       1.25    60.00"
       ]
      },
      "metadata": {},
      "output_type": "display_data"
     }
    ],
    "source": [
     "ordersdf= pd.DataFrame(orders)\n",
     "display(ordersdf)"
    ]
   },
   {
    "cell_type": "markdown",
 @@ -217,10 +765,24 @@
   },
   {
    "cell_type": "code",
    "execution_count": null,
    "execution_count": 99,
    "metadata": {},
    "outputs": [],
    "source": []
    "outputs": [
     {
      "name": "stdout",
      "output_type": "stream",
      "text": [
       "2978\n",
       "637.0\n"
      ]
     }
    ],
    "source": [
     "to=sum(ordersdf['Quantity'])\n",
     "print(to)\n",
     "re=sum(ordersdf['Revenue'])\n",
     "print(re)"
    ]
   },
   {
    "cell_type": "markdown",
 @@ -229,6 +791,24 @@
     "### 12. Obtain the prices of the most expensive and least expensive items ordered and print the difference."
    ]
   },
   {
    "cell_type": "code",
    "execution_count": 102,
    "metadata": {},
    "outputs": [
     {
      "name": "stdout",
      "output_type": "stream",
      "text": [
       "11.77\n"
      ]
     }
    ],
    "source": [
     "diff=max(ordersdf[\"UnitPrice\"])-min(ordersdf[\"UnitPrice\"])\n",
     "print(diff)"
    ]
   },
   {
    "cell_type": "code",
    "execution_count": null,
 @@ -253,7 +833,7 @@
    "name": "python",
    "nbconvert_exporter": "python",
    "pygments_lexer": "ipython3",
    "version": "3.7.0"
    "version": "3.8.2"
   }
  },
  "nbformat": 4,
 "nbformat_minor": 2
}