{
 "cells": [
  {
   "cell_type": "markdown",
   "metadata": {},
   "source": [
    "# Web Scraping Lab\n",
    "\n",
    "You will find in this notebook some scrapy exercises to practise your scraping skills.\n",
    "\n",
    "**Tips:**\n",
    "\n",
    "- Check the response status code for each request to ensure you have obtained the intended contennt.\n",
    "- Print the response text in each request to understand the kind of info you are getting and its format.\n",
    "- Check for patterns in the response text to extract the data/info requested in each question.\n",
    "- Visit each url and take a look at its source through Chrome DevTools. You'll need to identify the html tags, special class names etc. used for the html content you are expected to extract."
   ]
  },
  {
   "cell_type": "markdown",
   "metadata": {},
   "source": [
    "- [Requests library](http://docs.python-requests.org/en/master/#the-user-guide) documentation \n",
    "- [Beautiful Soup Doc](https://www.crummy.com/software/BeautifulSoup/bs4/doc/)\n",
    "- [Urllib](https://docs.python.org/3/library/urllib.html#module-urllib)\n",
    "- [re lib](https://docs.python.org/3/library/re.html)\n",
    "- [lxml lib](https://lxml.de/)\n",
    "- [Scrapy](https://scrapy.org/)\n",
    "- [List of HTTP status codes](https://en.wikipedia.org/wiki/List_of_HTTP_status_codes)\n",
    "- [HTML basics](http://www.simplehtmlguide.com/cheatsheet.php)\n",
    "- [CSS basics](https://www.cssbasics.com/#page_start)"
   ]
  },
  {
   "cell_type": "markdown",
   "metadata": {},
   "source": [
    "#### Below are the libraries and modules you may need. `requests`,  `BeautifulSoup` and `pandas` are imported for you. If you prefer to use additional libraries feel free to uncomment them."
   ]
  },
  {
   "cell_type": "code",
   "execution_count": 3,
   "metadata": {},
   "outputs": [],
   "source": [
    "import requests\n",
    "from bs4 import BeautifulSoup\n",
    "import pandas as pd\n",
    "# from pprint import pprint\n",
    "# from lxml import html\n",
    "# from lxml.html import fromstring\n",
    "# import urllib.request\n",
    "# from urllib.request import urlopen\n",
    "# import random\n",
    "import re\n",
    "# import scrapy"
   ]
  },
  {
   "cell_type": "markdown",
   "metadata": {},
   "source": [
    "#### Download, parse (using BeautifulSoup), and print the content from the Trending Developers page from GitHub:"
   ]
  },
  {
   "cell_type": "code",
   "execution_count": 63,
   "metadata": {},
   "outputs": [],
   "source": [
    "# This is the url you will scrape in this exercise\n",
    "url = 'https://github.com/trending/developers'"
   ]
  },
  {
   "cell_type": "code",
   "execution_count": 65,
   "metadata": {},
   "outputs": [],
   "source": [
    "res = requests.get(f\"{url}\")\n",
    "res.text\n",
    "soup= BeautifulSoup(res.text)\n"
   ]
  },
  {
   "cell_type": "code",
   "execution_count": 66,
   "metadata": {
    "scrolled": true
   },
   "outputs": [],
   "source": [
    "names = soup.find_all(\"h1\" , class_=\"h3 lh-condensed\")\n",
    "nicks = soup.find_all(\"p\", class_=\"f4 text-normal mb-1\")"
   ]
  },
  {
   "cell_type": "code",
   "execution_count": 72,
   "metadata": {},
   "outputs": [
    {
     "data": {
      "text/plain": [
       "{('Ahmet Alp Balkan', 'ahmetb'),\n",
       " ('Andrey Okonetchnikov', 'okonet'),\n",
       " ('Ariel Mashraki', 'a8m'),\n",
       " ('Artem Zakharchenko', 'kettanaito'),\n",
       " ('Ben Manes', 'ben-manes'),\n",
       " ('Carlos Cuesta', 'carloscuesta'),\n",
       " ('Chris Long', 'clong'),\n",
       " ('Christian Clauss', 'cclauss'),\n",
       " ('Diego Sampaio', 'sampaiodiego'),\n",
       " ('Don Jayamanne', 'DonJayamanne'),\n",
       " ('Florimond Manca', 'florimondmanca'),\n",
       " ('Gavin Wood', 'gavofyork'),\n",
       " ('Gleb Bahmutov', 'bahmutov'),\n",
       " ('Han Xiao', 'hanxiao'),\n",
       " ('Jed Watson', 'JedWatson'),\n",
       " ('Julien Bouquillon', 'revolunet'),\n",
       " ('Kévin Dunglas', 'dunglas'),\n",
       " ('Marcos Iglesias', 'Golodhros'),\n",
       " ('Megan Marsh', 'SwampDragons'),\n",
       " ('Michael Waskom', 'mwaskom'),\n",
       " ('Nader Dabit', 'dabit3'),\n",
       " ('Niels Lohmann', 'nlohmann'),\n",
       " ('Oleksandr Fediashov', 'layershifter'),\n",
       " ('Vadim Dalecky', 'streamich'),\n",
       " ('William Falcon', 'williamFalcon')}"
      ]
     },
     "execution_count": 72,
     "metadata": {},
     "output_type": "execute_result"
    }
   ],
   "source": [
    "coder_name= [name.text.strip() for name in names]\n",
    "coder_nick= [nick.text.strip() for nick in nicks]\n",
    "result= zip(coder_name,coder_nick) \n",
    "result_set = set(result)\n",
    "result_set"
   ]
  },
  {
   "cell_type": "markdown",
   "metadata": {},
   "source": [
    "#### Display the names of the trending developers retrieved in the previous step.\n",
    "\n",
    "Your output should be a Python list of developer names. Each name should not contain any html tag.\n",
    "\n",
    "**Instructions:**\n",
    "\n",
    "1. Find out the html tag and class names used for the developer names. You can achieve this using Chrome DevTools.\n",
    "\n",
    "1. Use BeautifulSoup to extract all the html elements that contain the developer names.\n",
    "\n",
    "1. Use string manipulation techniques to replace whitespaces and linebreaks (i.e. `\\n`) in the *text* of each html element. Use a list to store the clean names.\n",
    "\n",
    "1. Print the list of names.\n",
    "\n",
    "Your output should look like below:\n",
    "\n",
    "```\n",
    "['trimstray (@trimstray)',\n",
    " 'joewalnes (JoeWalnes)',\n",
    " 'charlax (Charles-AxelDein)',\n",
    " 'ForrestKnight (ForrestKnight)',\n",
    " 'revery-ui (revery-ui)',\n",
    " 'alibaba (Alibaba)',\n",
    " 'Microsoft (Microsoft)',\n",
    " 'github (GitHub)',\n",
    " 'facebook (Facebook)',\n",
    " 'boazsegev (Bo)',\n",
    " 'google (Google)',\n",
    " 'cloudfetch',\n",
    " 'sindresorhus (SindreSorhus)',\n",
    " 'tensorflow',\n",
    " 'apache (TheApacheSoftwareFoundation)',\n",
    " 'DevonCrawford (DevonCrawford)',\n",
    " 'ARMmbed (ArmMbed)',\n",
    " 'vuejs (vuejs)',\n",
    " 'fastai (fast.ai)',\n",
    " 'QiShaoXuan (Qi)',\n",
    " 'joelparkerhenderson (JoelParkerHenderson)',\n",
    " 'torvalds (LinusTorvalds)',\n",
    " 'CyC2018',\n",
    " 'komeiji-satori (神楽坂覚々)',\n",
    " 'script-8']\n",
    " ```"
   ]
  },
  {
   "cell_type": "markdown",
   "metadata": {},
   "source": [
    "#### Display the trending Python repositories in GitHub\n",
    "\n",
    "The steps to solve this problem is similar to the previous one except that you need to find out the repository names instead of developer names."
   ]
  },
  {
   "cell_type": "code",
   "execution_count": 10,
   "metadata": {},
   "outputs": [],
   "source": [
    "# This is the url you will scrape in this exercise\n",
    "url_repos = 'https://github.com/trending/python?since=daily'"
   ]
  },
  {
   "cell_type": "code",
   "execution_count": 22,
   "metadata": {},
   "outputs": [],
   "source": [
    "res_repo = requests.get(f\"{url_repos}\")\n",
    "res_repo.text\n",
    "soup_repo= BeautifulSoup(res_repo.text)"
   ]
  },
  {
   "cell_type": "code",
   "execution_count": 19,
   "metadata": {},
   "outputs": [],
   "source": [
    "repos = soup.find_all(\"h1\" , {\"class\":\"h3 lh-condensed\"})"
   ]
  },
  {
   "cell_type": "code",
   "execution_count": 20,
   "metadata": {},
   "outputs": [],
   "source": [
    "trend_repos = [repo.find(\"a\").attrs[\"href\"] for repo in repos]"
   ]
  },
  {
   "cell_type": "markdown",
   "metadata": {},
   "source": [
    "#### Display all the image links from Walt Disney wikipedia page"
   ]
  },
  {
   "cell_type": "code",
   "execution_count": 24,
   "metadata": {},
   "outputs": [],
   "source": [
    "# This is the url you will scrape in this exercise\n",
    "url_dis = 'https://en.wikipedia.org/wiki/Walt_Disney'"
   ]
  },
  {
   "cell_type": "code",
   "execution_count": 51,
   "metadata": {},
   "outputs": [],
   "source": [
    "res_dis = requests.get(url_dis)\n",
    "res_dis.text\n",
    "soup_repo= BeautifulSoup(res_repo.text)\n",
    "images = soup.find_all(\"img\")"
   ]
  },
  {
   "cell_type": "code",
   "execution_count": 59,
   "metadata": {
    "scrolled": false
   },
   "outputs": [
    {
     "data": {
      "text/plain": [
       "['https://github.githubassets.com/images/search-key-slash.svg',\n",
       " '',\n",
       " '',\n",
       " '',\n",
       " 'https://avatars2.githubusercontent.com/u/4002001?s=40&v=4',\n",
       " 'https://avatars1.githubusercontent.com/u/13486777?s=40&v=4',\n",
       " 'https://avatars0.githubusercontent.com/u/5762635?s=40&v=4',\n",
       " 'https://avatars0.githubusercontent.com/u/25046619?s=40&v=4',\n",
       " 'https://avatars0.githubusercontent.com/u/39279048?s=40&v=4',\n",
       " 'https://avatars1.githubusercontent.com/u/11437453?s=40&v=4',\n",
       " 'https://avatars0.githubusercontent.com/u/23493245?s=40&v=4',\n",
       " 'https://avatars0.githubusercontent.com/u/8684262?s=40&v=4',\n",
       " 'https://avatars3.githubusercontent.com/u/3158258?s=40&v=4',\n",
       " 'https://avatars2.githubusercontent.com/u/9121265?s=40&v=4',\n",
       " 'https://avatars2.githubusercontent.com/u/21482705?s=40&v=4',\n",
       " 'https://avatars0.githubusercontent.com/u/2640999?s=40&v=4',\n",
       " 'https://avatars3.githubusercontent.com/u/3709715?s=40&v=4',\n",
       " 'https://avatars1.githubusercontent.com/u/52658196?s=40&v=4',\n",
       " 'https://avatars0.githubusercontent.com/u/13149166?s=40&v=4',\n",
       " 'https://avatars1.githubusercontent.com/u/52740443?s=40&v=4',\n",
       " 'https://avatars0.githubusercontent.com/u/56397676?s=40&v=4',\n",
       " 'https://avatars2.githubusercontent.com/u/28648031?s=40&v=4',\n",
       " 'https://avatars3.githubusercontent.com/u/350836?s=40&v=4',\n",
       " 'https://avatars0.githubusercontent.com/u/302922?s=40&v=4',\n",
       " 'https://avatars1.githubusercontent.com/u/54471250?s=40&v=4',\n",
       " 'https://avatars1.githubusercontent.com/u/1357499?s=40&v=4',\n",
       " 'https://avatars0.githubusercontent.com/u/20489521?s=40&v=4',\n",
       " 'https://avatars2.githubusercontent.com/u/22779813?s=40&v=4',\n",
       " 'https://avatars1.githubusercontent.com/u/19261024?s=40&v=4',\n",
       " 'https://avatars1.githubusercontent.com/u/11741550?s=40&v=4',\n",
       " 'https://avatars0.githubusercontent.com/u/17924227?s=40&v=4',\n",
       " 'https://avatars0.githubusercontent.com/u/6745326?s=40&v=4',\n",
       " 'https://avatars2.githubusercontent.com/u/6792642?s=40&v=4',\n",
       " 'https://avatars1.githubusercontent.com/u/3250749?s=40&v=4',\n",
       " 'https://avatars0.githubusercontent.com/u/1001610?s=40&v=4',\n",
       " 'https://avatars1.githubusercontent.com/u/6361575?s=40&v=4',\n",
       " 'https://avatars2.githubusercontent.com/u/31173491?s=40&v=4',\n",
       " 'https://avatars1.githubusercontent.com/u/954798?s=40&v=4',\n",
       " 'https://avatars3.githubusercontent.com/u/3291951?s=40&v=4',\n",
       " 'https://avatars2.githubusercontent.com/u/1308313?s=40&v=4',\n",
       " 'https://avatars2.githubusercontent.com/u/8812459?s=40&v=4',\n",
       " 'https://avatars0.githubusercontent.com/u/7272031?s=40&v=4',\n",
       " 'https://avatars1.githubusercontent.com/u/20281571?s=40&v=4',\n",
       " 'https://avatars0.githubusercontent.com/u/43160?s=40&v=4',\n",
       " 'https://avatars3.githubusercontent.com/u/15663219?s=40&v=4',\n",
       " 'https://avatars2.githubusercontent.com/u/23406491?s=40&v=4',\n",
       " 'https://avatars3.githubusercontent.com/u/48815116?s=40&v=4',\n",
       " 'https://avatars3.githubusercontent.com/u/5035364?s=40&v=4',\n",
       " 'https://avatars0.githubusercontent.com/u/5518261?s=40&v=4',\n",
       " 'https://avatars1.githubusercontent.com/u/5234670?s=40&v=4',\n",
       " 'https://avatars0.githubusercontent.com/u/19587012?s=40&v=4',\n",
       " 'https://avatars3.githubusercontent.com/u/11684533?s=40&v=4',\n",
       " 'https://avatars1.githubusercontent.com/u/3649128?s=40&v=4',\n",
       " 'https://avatars3.githubusercontent.com/u/188410?s=40&v=4',\n",
       " 'https://avatars3.githubusercontent.com/u/109152?s=40&v=4',\n",
       " 'https://avatars2.githubusercontent.com/u/2706882?s=40&v=4',\n",
       " 'https://avatars1.githubusercontent.com/u/5467696?s=40&v=4',\n",
       " 'https://avatars0.githubusercontent.com/u/3089181?s=40&v=4',\n",
       " 'https://avatars3.githubusercontent.com/u/14004203?s=40&v=4',\n",
       " 'https://avatars3.githubusercontent.com/u/7549138?s=40&v=4',\n",
       " 'https://avatars3.githubusercontent.com/u/3377747?s=40&v=4',\n",
       " 'https://avatars0.githubusercontent.com/u/22755571?s=40&v=4',\n",
       " 'https://avatars3.githubusercontent.com/u/1882775?s=40&v=4',\n",
       " 'https://avatars0.githubusercontent.com/u/30509968?s=40&v=4',\n",
       " 'https://avatars0.githubusercontent.com/u/21163110?s=40&v=4',\n",
       " 'https://avatars3.githubusercontent.com/u/59851616?s=40&v=4',\n",
       " 'https://avatars3.githubusercontent.com/u/7031489?s=40&v=4',\n",
       " 'https://avatars1.githubusercontent.com/u/17806508?s=40&v=4',\n",
       " 'https://avatars1.githubusercontent.com/u/21020482?s=40&v=4',\n",
       " 'https://avatars0.githubusercontent.com/u/9594042?s=40&v=4',\n",
       " 'https://avatars3.githubusercontent.com/u/25329624?s=40&v=4',\n",
       " 'https://avatars2.githubusercontent.com/u/7059456?s=40&v=4',\n",
       " 'https://avatars2.githubusercontent.com/u/38794632?s=40&v=4',\n",
       " 'https://avatars1.githubusercontent.com/u/29301320?s=40&v=4',\n",
       " 'https://avatars2.githubusercontent.com/u/7871701?s=40&v=4',\n",
       " 'https://avatars2.githubusercontent.com/u/16829798?s=40&v=4',\n",
       " 'https://avatars0.githubusercontent.com/u/4550136?s=40&v=4',\n",
       " 'https://avatars1.githubusercontent.com/u/8582351?s=40&v=4',\n",
       " 'https://avatars1.githubusercontent.com/u/946950?s=40&v=4',\n",
       " 'https://avatars0.githubusercontent.com/u/11684628?s=40&v=4',\n",
       " 'https://avatars1.githubusercontent.com/u/13502328?s=40&v=4',\n",
       " 'https://avatars2.githubusercontent.com/u/6821233?s=40&v=4',\n",
       " 'https://avatars2.githubusercontent.com/u/1673013?s=40&v=4',\n",
       " 'https://avatars1.githubusercontent.com/u/690814?s=40&v=4',\n",
       " 'https://avatars1.githubusercontent.com/u/17903940?s=40&v=4',\n",
       " 'https://avatars0.githubusercontent.com/u/13398637?s=40&v=4',\n",
       " 'https://avatars0.githubusercontent.com/u/65916846?s=40&v=4',\n",
       " 'https://avatars3.githubusercontent.com/u/6033501?s=40&v=4',\n",
       " 'https://avatars0.githubusercontent.com/u/63583491?s=40&v=4',\n",
       " 'https://avatars3.githubusercontent.com/u/10135538?s=40&v=4',\n",
       " 'https://avatars3.githubusercontent.com/u/16308767?s=40&v=4',\n",
       " 'https://avatars3.githubusercontent.com/u/487433?s=40&v=4',\n",
       " 'https://avatars1.githubusercontent.com/u/4282712?s=40&v=4',\n",
       " 'https://avatars1.githubusercontent.com/u/8811558?s=40&v=4',\n",
       " 'https://avatars3.githubusercontent.com/u/12058428?s=40&v=4',\n",
       " 'https://avatars3.githubusercontent.com/u/595491?s=40&v=4',\n",
       " 'https://avatars2.githubusercontent.com/u/13028340?s=40&v=4',\n",
       " 'https://avatars0.githubusercontent.com/u/4144536?s=40&v=4',\n",
       " 'https://avatars1.githubusercontent.com/u/6883957?s=40&v=4',\n",
       " 'https://avatars0.githubusercontent.com/u/13946679?s=40&v=4',\n",
       " 'https://avatars0.githubusercontent.com/u/19572468?s=40&v=4',\n",
       " 'https://avatars0.githubusercontent.com/u/13255838?s=40&v=4',\n",
       " 'https://avatars2.githubusercontent.com/u/153965?s=40&v=4',\n",
       " 'https://avatars3.githubusercontent.com/u/40716964?s=40&v=4',\n",
       " 'https://avatars2.githubusercontent.com/u/590471?s=40&v=4',\n",
       " 'https://avatars1.githubusercontent.com/u/5643703?s=40&v=4']"
      ]
     },
     "execution_count": 59,
     "metadata": {},
     "output_type": "execute_result"
    }
   ],
   "source": [
    "links=[im[\"src\"] for im in images]\n",
    "links\n"
   ]
  },
  {
   "cell_type": "code",
   "execution_count": 67,
   "metadata": {},
   "outputs": [],
   "source": [
    "from IPython.display import Image\n",
    "from IPython.display import SVG,display"
   ]
  },
  {
   "cell_type": "code",
   "execution_count": 68,
   "metadata": {},
   "outputs": [
    {
     "ename": "ValueError",
     "evalue": "Cannot embed the 'svg' image format",
     "output_type": "error",
     "traceback": [
      "\u001b[0;31m---------------------------------------------------------------------------\u001b[0m",
      "\u001b[0;31mValueError\u001b[0m                                Traceback (most recent call last)",
      "\u001b[0;32m<ipython-input-68-a662cc00e696>\u001b[0m in \u001b[0;36m<module>\u001b[0;34m\u001b[0m\n\u001b[0;32m----> 1\u001b[0;31m \u001b[0mdisplay\u001b[0m\u001b[0;34m(\u001b[0m\u001b[0mImage\u001b[0m\u001b[0;34m(\u001b[0m\u001b[0;34m\"https://github.githubassets.com/images/search-key-slash.svg\"\u001b[0m\u001b[0;34m)\u001b[0m\u001b[0;34m)\u001b[0m\u001b[0;34m\u001b[0m\u001b[0;34m\u001b[0m\u001b[0m\n\u001b[0m",
      "\u001b[0;32m/Library/Frameworks/Python.framework/Versions/3.8/lib/python3.8/site-packages/IPython/core/display.py\u001b[0m in \u001b[0;36m__init__\u001b[0;34m(self, data, url, filename, format, embed, width, height, retina, unconfined, metadata)\u001b[0m\n\u001b[1;32m   1214\u001b[0m \u001b[0;34m\u001b[0m\u001b[0m\n\u001b[1;32m   1215\u001b[0m         \u001b[0;32mif\u001b[0m \u001b[0mself\u001b[0m\u001b[0;34m.\u001b[0m\u001b[0membed\u001b[0m \u001b[0;32mand\u001b[0m \u001b[0mself\u001b[0m\u001b[0;34m.\u001b[0m\u001b[0mformat\u001b[0m \u001b[0;32mnot\u001b[0m \u001b[0;32min\u001b[0m \u001b[0mself\u001b[0m\u001b[0;34m.\u001b[0m\u001b[0m_ACCEPTABLE_EMBEDDINGS\u001b[0m\u001b[0;34m:\u001b[0m\u001b[0;34m\u001b[0m\u001b[0;34m\u001b[0m\u001b[0m\n\u001b[0;32m-> 1216\u001b[0;31m             \u001b[0;32mraise\u001b[0m \u001b[0mValueError\u001b[0m\u001b[0;34m(\u001b[0m\u001b[0;34m\"Cannot embed the '%s' image format\"\u001b[0m \u001b[0;34m%\u001b[0m \u001b[0;34m(\u001b[0m\u001b[0mself\u001b[0m\u001b[0;34m.\u001b[0m\u001b[0mformat\u001b[0m\u001b[0;34m)\u001b[0m\u001b[0;34m)\u001b[0m\u001b[0;34m\u001b[0m\u001b[0;34m\u001b[0m\u001b[0m\n\u001b[0m\u001b[1;32m   1217\u001b[0m         \u001b[0;32mif\u001b[0m \u001b[0mself\u001b[0m\u001b[0;34m.\u001b[0m\u001b[0membed\u001b[0m\u001b[0;34m:\u001b[0m\u001b[0;34m\u001b[0m\u001b[0;34m\u001b[0m\u001b[0m\n\u001b[1;32m   1218\u001b[0m             \u001b[0mself\u001b[0m\u001b[0;34m.\u001b[0m\u001b[0m_mimetype\u001b[0m \u001b[0;34m=\u001b[0m \u001b[0mself\u001b[0m\u001b[0;34m.\u001b[0m\u001b[0m_MIMETYPES\u001b[0m\u001b[0;34m.\u001b[0m\u001b[0mget\u001b[0m\u001b[0;34m(\u001b[0m\u001b[0mself\u001b[0m\u001b[0;34m.\u001b[0m\u001b[0mformat\u001b[0m\u001b[0;34m)\u001b[0m\u001b[0;34m\u001b[0m\u001b[0;34m\u001b[0m\u001b[0m\n",
      "\u001b[0;31mValueError\u001b[0m: Cannot embed the 'svg' image format"
     ]
    }
   ],
   "source": [
    "display(Image(\"https://github.githubassets.com/images/search-key-slash.svg\"))"
   ]
  },
  {
   "cell_type": "markdown",
   "metadata": {},
   "source": [
    "#### Retrieve an arbitary Wikipedia page of \"Python\" and create a list of links on that page"
   ]
  },
  {
   "cell_type": "code",
   "execution_count": null,
   "metadata": {},
   "outputs": [],
   "source": [
    "# This is the url you will scrape in this exercise\n",
    "url ='https://en.wikipedia.org/wiki/Python' "
   ]
  },
  {
   "cell_type": "code",
   "execution_count": null,
   "metadata": {},
   "outputs": [],
   "source": [
    "#your code"
   ]
  },
  {
   "cell_type": "markdown",
   "metadata": {},
   "source": [
    "#### Number of Titles that have changed in the United States Code since its last release point "
   ]
  },
  {
   "cell_type": "code",
   "execution_count": 84,
   "metadata": {},
   "outputs": [],
   "source": [
    "# This is the url you will scrape in this exercise\n",
    "url_ch = 'http://uscode.house.gov/download/download.shtml'"
   ]
  },
  {
   "cell_type": "code",
   "execution_count": 90,
   "metadata": {},
   "outputs": [],
   "source": [
    "res_ch = requests.get(url_ch)\n",
    "res_ch.text\n",
    "soup_ch = BeautifulSoup(res_ch.text)\n"
   ]
  },
  {
   "cell_type": "code",
   "execution_count": 91,
   "metadata": {},
   "outputs": [
    {
     "name": "stdout",
     "output_type": "stream",
     "text": [
      "[<div class=\"usctitlechanged\" id=\"us/usc/t34\">\n",
      "\n",
      "          Title 34 - Crime Control and Law Enforcement\n",
      "\n",
      "        </div>]\n"
     ]
    },
    {
     "data": {
      "text/plain": [
       "['Title 34 - Crime Control and Law Enforcement']"
      ]
     },
     "execution_count": 91,
     "metadata": {},
     "output_type": "execute_result"
    }
   ],
   "source": [
    "titles = soup_ch.find_all(\"div\", class_=\"usctitlechanged\")\n",
    "print(titles)\n",
    "titles_changed=[]\n",
    "for t in titles:\n",
    "    titles_changed.append(t.text.strip())\n",
    "titles_changed"
   ]
  },
  {
   "cell_type": "markdown",
   "metadata": {},
   "source": [
    "#### A Python list with the top ten FBI's Most Wanted names "
   ]
  },
  {
   "cell_type": "code",
   "execution_count": 109,
   "metadata": {},
   "outputs": [],
   "source": [
    "# This is the url you will scrape in this exercise\n",
    "url_fbi = 'https://www.fbi.gov/wanted/topten'"
   ]
  },
  {
   "cell_type": "code",
   "execution_count": 110,
   "metadata": {},
   "outputs": [],
   "source": [
    "res_fbi = requests.get(url_fbi)\n",
    "res_fbi.text\n",
    "soup_fbi = BeautifulSoup(res_fbi.text)"
   ]
  },
  {
   "cell_type": "code",
   "execution_count": 124,
   "metadata": {},
   "outputs": [
    {
     "data": {
      "text/plain": [
       "['YASER ABDEL SAID',\n",
       " 'ALEXIS FLORES',\n",
       " 'EUGENE PALMER',\n",
       " 'SANTIAGO VILLALBA MEDEROS',\n",
       " 'RAFAEL CARO-QUINTERO',\n",
       " 'ROBERT WILLIAM FISHER',\n",
       " 'BHADRESHKUMAR CHETANBHAI PATEL',\n",
       " 'ALEJANDRO ROSALES CASTILLO',\n",
       " 'ARNOLDO JIMENEZ',\n",
       " 'JASON DEREK BROWN']"
      ]
     },
     "execution_count": 124,
     "metadata": {},
     "output_type": "execute_result"
    }
   ],
   "source": [
    "names = soup_fbi.find_all(\"h3\", class_=\"title\")\n",
    "total_names= [i.text.strip() for i in names]\n",
    "total_names"
   ]
  },
  {
   "cell_type": "markdown",
   "metadata": {},
   "source": [
    "####  20 latest earthquakes info (date, time, latitude, longitude and region name) by the EMSC as a pandas dataframe"
   ]
  },
  {
   "cell_type": "code",
   "execution_count": 125,
   "metadata": {},
   "outputs": [],
   "source": [
    "# This is the url you will scrape in this exercise\n",
    "url_quakes = 'https://www.emsc-csem.org/Earthquake/'"
   ]
  },
  {
   "cell_type": "code",
   "execution_count": 126,
   "metadata": {},
   "outputs": [],
   "source": [
    "res_quakes = requests.get(url_quakes)\n",
    "res_quakes.text\n",
    "soup_quakes = BeautifulSoup(res_quakes.text)\n"
   ]
  },
  {
   "cell_type": "code",
   "execution_count": null,
   "metadata": {},
   "outputs": [],
   "source": [
    "first_filter = "
   ]
  },
  {
   "cell_type": "code",
   "execution_count": null,
   "metadata": {},
   "outputs": [],
   "source": []
  },
  {
   "cell_type": "code",
   "execution_count": null,
   "metadata": {},
   "outputs": [],
   "source": []
  },
  {
   "cell_type": "markdown",
   "metadata": {},
   "source": [
    "#### Display the date, days, title, city, country of next 25 hackathon events as a Pandas dataframe table"
   ]
  },
  {
   "cell_type": "code",
   "execution_count": null,
   "metadata": {},
   "outputs": [],
   "source": [
    "# This is the url you will scrape in this exercise\n",
    "url ='https://hackevents.co/hackathons'"
   ]
  },
  {
   "cell_type": "code",
   "execution_count": null,
   "metadata": {},
   "outputs": [],
   "source": [
    "#your code"
   ]
  },
  {
   "cell_type": "markdown",
   "metadata": {},
   "source": [
    "#### Count number of tweets by a given Twitter account."
   ]
  },
  {
   "cell_type": "markdown",
   "metadata": {},
   "source": [
    "You will need to include a ***try/except block*** for account names not found. \n",
    "<br>***Hint:*** the program should count the number of tweets for any provided account"
   ]
  },
  {
   "cell_type": "code",
   "execution_count": null,
   "metadata": {},
   "outputs": [],
   "source": [
    "# This is the url you will scrape in this exercise \n",
    "# You will need to add the account credentials to this url\n",
    "url = 'https://twitter.com/'"
   ]
  },
  {
   "cell_type": "code",
   "execution_count": null,
   "metadata": {},
   "outputs": [],
   "source": [
    "#your code"
   ]
  },
  {
   "cell_type": "markdown",
   "metadata": {},
   "source": [
    "#### Number of followers of a given twitter account"
   ]
  },
  {
   "cell_type": "markdown",
   "metadata": {},
   "source": [
    "You will need to include a ***try/except block*** in case account/s name not found. \n",
    "<br>***Hint:*** the program should count the followers for any provided account"
   ]
  },
  {
   "cell_type": "code",
   "execution_count": null,
   "metadata": {},
   "outputs": [],
   "source": [
    "# This is the url you will scrape in this exercise \n",
    "# You will need to add the account credentials to this url\n",
    "url = 'https://twitter.com/'"
   ]
  },
  {
   "cell_type": "code",
   "execution_count": null,
   "metadata": {},
   "outputs": [],
   "source": [
    "#your code"
   ]
  },
  {
   "cell_type": "markdown",
   "metadata": {},
   "source": [
    "#### List all language names and number of related articles in the order they appear in wikipedia.org"
   ]
  },
  {
   "cell_type": "code",
   "execution_count": null,
   "metadata": {},
   "outputs": [],
   "source": [
    "# This is the url you will scrape in this exercise\n",
    "url = 'https://www.wikipedia.org/'"
   ]
  },
  {
   "cell_type": "code",
   "execution_count": null,
   "metadata": {},
   "outputs": [],
   "source": [
    "#your code"
   ]
  },
  {
   "cell_type": "markdown",
   "metadata": {},
   "source": [
    "#### A list with the different kind of datasets available in data.gov.uk "
   ]
  },
  {
   "cell_type": "code",
   "execution_count": 131,
   "metadata": {},
   "outputs": [],
   "source": [
    "# This is the url you will scrape in this exercise\n",
    "url_data = 'https://data.gov.uk/'"
   ]
  },
  {
   "cell_type": "code",
   "execution_count": 132,
   "metadata": {},
   "outputs": [],
   "source": [
    "res_data = requests.get(url_data)\n",
    "res_data.text\n",
    "soup_data= BeautifulSoup(res_data.text)"
   ]
  },
  {
   "cell_type": "code",
   "execution_count": 145,
   "metadata": {},
   "outputs": [
    {
     "data": {
      "text/plain": [
       "['Business and economy',\n",
       " 'Crime and justice',\n",
       " 'Defence',\n",
       " 'Education',\n",
       " 'Environment',\n",
       " 'Government',\n",
       " 'Government spending',\n",
       " 'Health',\n",
       " 'Mapping',\n",
       " 'Society',\n",
       " 'Towns and cities',\n",
       " 'Transport']"
      ]
     },
     "execution_count": 145,
     "metadata": {},
     "output_type": "execute_result"
    }
   ],
   "source": [
    "data1= soup_data.find_all(\"h2\")\n",
    "data_final = [i.text for i in data1 ]\n",
    "data_final"
   ]
  },
  {
   "cell_type": "markdown",
   "metadata": {},
   "source": [
    "#### Top 10 languages by number of native speakers stored in a Pandas Dataframe"
   ]
  },
  {
   "cell_type": "code",
   "execution_count": 157,
   "metadata": {},
   "outputs": [],
   "source": [
    "# This is the url you will scrape in this exercise\n",
    "url_lan = 'https://en.wikipedia.org/wiki/List_of_languages_by_number_of_native_speakers'"
   ]
  },
  {
   "cell_type": "code",
   "execution_count": 212,
   "metadata": {},
   "outputs": [],
   "source": [
    "res_lan = requests.get(url_lan)\n",
    "res_lan.text\n",
    "soup_lan = BeautifulSoup(res_lan.text)"
   ]
  },
  {
   "cell_type": "code",
   "execution_count": 238,
   "metadata": {},
   "outputs": [
    {
     "name": "stdout",
     "output_type": "stream",
     "text": [
      "1\n",
      "Mandarin (entire branch)\n",
      "935 (955)\n",
      "14.1%\n",
      "\n",
      "2\n",
      "Spanish\n",
      "390 (405)\n",
      "5.85%\n",
      "\n",
      "3\n",
      "English\n",
      "365 (360)\n",
      "5.52%\n",
      "\n",
      "4\n",
      "Hindi[a]\n",
      "295 (310)\n",
      "4.46%\n",
      "\n",
      "5\n",
      "Arabic\n",
      "280 (295)\n",
      "4.23%\n",
      "\n",
      "6\n",
      "Portuguese\n",
      "205 (215)\n",
      "3.08%\n",
      "\n",
      "7\n",
      "Bengali\n",
      "200 (205)\n",
      "3.05%\n",
      "\n",
      "8\n",
      "Russian\n",
      "160 (155)\n",
      "2.42%\n",
      "\n",
      "9\n",
      "Japanese\n",
      "125 (125)\n",
      "1.92%\n",
      "\n",
      "10\n",
      "Punjabi\n",
      "95 (100)\n",
      "1.44%\n",
      "\n",
      "11\n",
      "German\n",
      "92 (95)\n",
      "1.39%\n",
      "\n",
      "12\n",
      "Javanese\n",
      "82\n",
      "1.25%\n",
      "\n",
      "13\n",
      "Wu (inc. Shanghainese)\n",
      "80\n",
      "1.20%\n",
      "\n",
      "14\n",
      "Malay (inc. Indonesian and Malaysian)\n",
      "77\n",
      "1.16%\n",
      "\n",
      "15\n",
      "Telugu\n",
      "76\n",
      "1.15%\n",
      "\n",
      "16\n",
      "Vietnamese\n",
      "76\n",
      "1.14%\n",
      "\n",
      "17\n",
      "Korean\n",
      "76\n",
      "1.14%\n",
      "\n",
      "18\n",
      "French\n",
      "75\n",
      "1.12%\n",
      "\n",
      "19\n",
      "Marathi\n",
      "73\n",
      "1.10%\n",
      "\n",
      "20\n",
      "Tamil\n",
      "70\n",
      "1.06%\n",
      "\n",
      "21\n",
      "Urdu\n",
      "66\n",
      "0.99%\n",
      "\n",
      "22\n",
      "Turkish\n",
      "63\n",
      "0.95%\n",
      "\n",
      "23\n",
      "Italian\n",
      "59\n",
      "0.90%\n",
      "\n",
      "24\n",
      "Yue (inc. Cantonese)\n",
      "59\n",
      "0.89%\n",
      "\n",
      "25\n",
      "Thai\n",
      "56\n",
      "0.85%\n",
      "\n",
      "26\n",
      "Gujarati\n",
      "49\n",
      "0.74%\n",
      "\n",
      "27\n",
      "Jin\n",
      "48\n",
      "0.72%\n",
      "\n",
      "28\n",
      "Southern Min (inc. Hokkien and Teochew)\n",
      "47\n",
      "0.71%\n",
      "\n",
      "29\n",
      "Persian\n",
      "45\n",
      "0.68%\n",
      "\n",
      "30\n",
      "Polish\n",
      "40\n",
      "0.61%\n",
      "\n",
      "31\n",
      "Pashto\n",
      "39\n",
      "0.58%\n",
      "\n",
      "32\n",
      "Kannada\n",
      "38\n",
      "0.58%\n",
      "\n",
      "33\n",
      "Xiang\n",
      "38\n",
      "0.58%\n",
      "\n",
      "34\n",
      "Malayalam\n",
      "38\n",
      "0.57%\n",
      "\n",
      "35\n",
      "Sundanese\n",
      "38\n",
      "0.57%\n",
      "\n",
      "36\n",
      "Hausa\n",
      "34\n",
      "0.52%\n",
      "\n",
      "37\n",
      "Odia (Oriya)\n",
      "33\n",
      "0.50%\n",
      "\n",
      "38\n",
      "Burmese\n",
      "33\n",
      "0.50%\n",
      "\n",
      "39\n",
      "Hakka\n",
      "31\n",
      "0.46%\n",
      "\n",
      "40\n",
      "Ukrainian\n",
      "30\n",
      "0.46%\n",
      "\n",
      "41\n",
      "Bhojpuri\n",
      "29[b]\n",
      "0.43%\n",
      "\n",
      "42\n",
      "Tagalog (Filipino)\n",
      "28\n",
      "0.42%\n",
      "\n",
      "43\n",
      "Yoruba\n",
      "28\n",
      "0.42%\n",
      "\n",
      "44\n",
      "Maithili\n",
      "27[b]\n",
      "0.41%\n",
      "\n",
      "45\n",
      "Uzbek\n",
      "26\n",
      "0.39%\n",
      "\n",
      "46\n",
      "Sindhi\n",
      "26\n",
      "0.39%\n",
      "\n",
      "47\n",
      "Amharic\n",
      "25\n",
      "0.37%\n",
      "\n",
      "48\n",
      "Fula\n",
      "24\n",
      "0.37%\n",
      "\n",
      "49\n",
      "Romanian\n",
      "24\n",
      "0.37%\n",
      "\n",
      "50\n",
      "Oromo\n",
      "24\n",
      "0.36%\n",
      "\n",
      "51\n",
      "Igbo\n",
      "24\n",
      "0.36%\n",
      "\n",
      "52\n",
      "Azerbaijani\n",
      "23\n",
      "0.34%\n",
      "\n",
      "53\n",
      "Awadhi\n",
      "22[b]\n",
      "0.33%\n",
      "\n",
      "54\n",
      "Gan\n",
      "22\n",
      "0.33%\n",
      "\n",
      "55\n",
      "Cebuano (Visayan)\n",
      "21\n",
      "0.32%\n",
      "\n",
      "56\n",
      "Dutch\n",
      "21\n",
      "0.32%\n",
      "\n",
      "57\n",
      "Kurdish\n",
      "21\n",
      "0.31%\n",
      "\n",
      "58\n",
      "Serbo-Croatian\n",
      "19\n",
      "0.28%\n",
      "\n",
      "59\n",
      "Malagasy\n",
      "18\n",
      "0.28%\n",
      "\n",
      "60\n",
      "Saraiki\n",
      "17[c]\n",
      "0.26%\n",
      "\n",
      "61\n",
      "Nepali\n",
      "17\n",
      "0.25%\n",
      "\n",
      "62\n",
      "Sinhala\n",
      "16\n",
      "0.25%\n",
      "\n",
      "63\n",
      "Chittagonian\n",
      "16\n",
      "0.24%\n",
      "\n",
      "64\n",
      "Zhuang\n",
      "16\n",
      "0.24%\n",
      "\n",
      "65\n",
      "Khmer\n",
      "16\n",
      "0.24%\n",
      "\n",
      "66\n",
      "Turkmen\n",
      "16\n",
      "0.24%\n",
      "\n",
      "67\n",
      "Assamese\n",
      "15\n",
      "0.23%\n",
      "\n",
      "68\n",
      "Madurese\n",
      "15\n",
      "0.23%\n",
      "\n",
      "69\n",
      "Somali\n",
      "15\n",
      "0.22%\n",
      "\n",
      "70\n",
      "Marwari\n",
      "14[b]\n",
      "0.21%\n",
      "\n",
      "71\n",
      "Magahi\n",
      "14[b]\n",
      "0.21%\n",
      "\n",
      "72\n",
      "Haryanvi\n",
      "14[b]\n",
      "0.21%\n",
      "\n",
      "73\n",
      "Hungarian\n",
      "13\n",
      "0.19%\n",
      "\n",
      "74\n",
      "Chhattisgarhi\n",
      "12[b]\n",
      "0.19%\n",
      "\n",
      "75\n",
      "Greek\n",
      "12\n",
      "0.18%\n",
      "\n",
      "76\n",
      "Chewa\n",
      "12\n",
      "0.17%\n",
      "\n",
      "77\n",
      "Deccan\n",
      "11\n",
      "0.17%\n",
      "\n",
      "78\n",
      "Akan\n",
      "11\n",
      "0.17%\n",
      "\n",
      "79\n",
      "Kazakh\n",
      "11\n",
      "0.17%\n",
      "\n",
      "80\n",
      "Northern Min[disputed  – discuss]\n",
      "10.9\n",
      "0.16%\n",
      "\n",
      "81\n",
      "Sylheti\n",
      "10.7\n",
      "0.16%\n",
      "\n",
      "82\n",
      "Zulu\n",
      "10.4\n",
      "0.16%\n",
      "\n",
      "83\n",
      "Czech\n",
      "10.0\n",
      "0.15%\n",
      "\n",
      "84\n",
      "Kinyarwanda\n",
      "9.8\n",
      "0.15%\n",
      "\n",
      "85\n",
      "Dhundhari\n",
      "9.6[b]\n",
      "0.15%\n",
      "\n",
      "86\n",
      "Haitian Creole\n",
      "9.6\n",
      "0.15%\n",
      "\n",
      "87\n",
      "Eastern Min (inc. Fuzhou dialect)\n",
      "9.5\n",
      "0.14%\n",
      "\n",
      "88\n",
      "Ilocano\n",
      "9.1\n",
      "0.14%\n",
      "\n",
      "89\n",
      "Quechua\n",
      "8.9\n",
      "0.13%\n",
      "\n",
      "90\n",
      "Kirundi\n",
      "8.8\n",
      "0.13%\n",
      "\n",
      "91\n",
      "Swedish\n",
      "8.7\n",
      "0.13%\n",
      "\n",
      "92\n",
      "Hmong\n",
      "8.4\n",
      "0.13%\n",
      "\n",
      "93\n",
      "Shona\n",
      "8.3\n",
      "0.13%\n",
      "\n",
      "94\n",
      "Uyghur\n",
      "8.2\n",
      "0.12%\n",
      "\n",
      "95\n",
      "Hiligaynon/Ilonggo (Visayan)\n",
      "8.2\n",
      "0.12%\n",
      "\n",
      "96\n",
      "Mossi\n",
      "7.6\n",
      "0.11%\n",
      "\n",
      "97\n",
      "Xhosa\n",
      "7.6\n",
      "0.11%\n",
      "\n",
      "98\n",
      "Belarusian\n",
      "7.6[d]\n",
      "0.11%\n",
      "\n",
      "99\n",
      "Balochi\n",
      "7.6\n",
      "0.11%\n",
      "\n",
      "100\n",
      "Konkani\n",
      "7.4\n",
      "0.11%\n",
      "\n",
      "\n",
      "5,610\n",
      "85%\n",
      "\n"
     ]
    }
   ],
   "source": [
    "table1= soup_lan.find_all(\"table\")[2](\"td\")\n",
    "for i in table1:\n",
    "    print(i.text)\n",
    "#Como accedo al idioma!!! :(\n"
   ]
  },
  {
   "cell_type": "markdown",
   "metadata": {},
   "source": [
    "### BONUS QUESTIONS"
   ]
  },
  {
   "cell_type": "markdown",
   "metadata": {},
   "source": [
    "#### Scrape a certain number of tweets of a given Twitter account."
   ]
  },
  {
   "cell_type": "code",
   "execution_count": null,
   "metadata": {},
   "outputs": [],
   "source": [
    "# This is the url you will scrape in this exercise \n",
    "# You will need to add the account credentials to this url\n",
    "url = 'https://twitter.com/'"
   ]
  },
  {
   "cell_type": "code",
   "execution_count": null,
   "metadata": {},
   "outputs": [],
   "source": [
    "# your code"
   ]
  },
  {
   "cell_type": "markdown",
   "metadata": {},
   "source": [
    "#### IMDB's Top 250 data (movie name, Initial release, director name and stars) as a pandas dataframe"
   ]
  },
  {
   "cell_type": "code",
   "execution_count": null,
   "metadata": {},
   "outputs": [],
   "source": [
    "# This is the url you will scrape in this exercise \n",
    "url = 'https://www.imdb.com/chart/top'"
   ]
  },
  {
   "cell_type": "code",
   "execution_count": null,
   "metadata": {},
   "outputs": [],
   "source": [
    "# your code"
   ]
  },
  {
   "cell_type": "markdown",
   "metadata": {},
   "source": [
    "#### Movie name, year and a brief summary of the top 10 random movies (IMDB) as a pandas dataframe."
   ]
  },
  {
   "cell_type": "code",
   "execution_count": null,
   "metadata": {},
   "outputs": [],
   "source": [
    "#This is the url you will scrape in this exercise\n",
    "url = 'http://www.imdb.com/chart/top'"
   ]
  },
  {
   "cell_type": "code",
   "execution_count": null,
   "metadata": {},
   "outputs": [],
   "source": [
    "#your code"
   ]
  },
  {
   "cell_type": "markdown",
   "metadata": {},
   "source": [
    "#### Find the live weather report (temperature, wind speed, description and weather) of a given city."
   ]
  },
  {
   "cell_type": "code",
   "execution_count": null,
   "metadata": {},
   "outputs": [],
   "source": [
    "#https://openweathermap.org/current\n",
    "city = city=input('Enter the city:')\n",
    "url = 'http://api.openweathermap.org/data/2.5/weather?'+'q='+city+'&APPID=b35975e18dc93725acb092f7272cc6b8&units=metric'"
   ]
  },
  {
   "cell_type": "code",
   "execution_count": null,
   "metadata": {},
   "outputs": [],
   "source": [
    "# your code"
   ]
  },
  {
   "cell_type": "markdown",
   "metadata": {},
   "source": [
    "#### Book name,price and stock availability as a pandas dataframe."
   ]
  },
  {
   "cell_type": "code",
   "execution_count": null,
   "metadata": {},
   "outputs": [],
   "source": [
    "# This is the url you will scrape in this exercise. \n",
    "# It is a fictional bookstore created to be scraped. \n",
    "url = 'http://books.toscrape.com/'"
   ]
  },
  {
   "cell_type": "code",
   "execution_count": null,
   "metadata": {},
   "outputs": [],
   "source": [
    "#your code"
   ]
  }
 ],
 "metadata": {
  "kernelspec": {
   "display_name": "Python 3",
   "language": "python",
   "name": "python3"
  },
  "language_info": {
   "codemirror_mode": {
    "name": "ipython",
    "version": 3
   },
   "file_extension": ".py",
   "mimetype": "text/x-python",
   "name": "python",
   "nbconvert_exporter": "python",
   "pygments_lexer": "ipython3",
   "version": "3.8.2"
  }
 },
 "nbformat": 4,
 "nbformat_minor": 2
}
