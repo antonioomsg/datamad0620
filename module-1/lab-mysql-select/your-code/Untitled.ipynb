{
 "cells": [
  {
   "cell_type": "code",
   "execution_count": null,
   "metadata": {},
   "outputs": [],
   "source": [
    "#Challange1"
   ]
  },
  {
   "cell_type": "code",
   "execution_count": null,
   "metadata": {},
   "outputs": [],
   "source": [
    "SELECT authors.au_id,authors.au_fname,authors.au_lname, titles.title, publishers.pub_name\n",
    "FROM authors \n",
    "INNER JOIN titleauthor ON authors.au_id = titleauthor.au_id \n",
    "INNER JOIN titles ON titleauthor.title_id = titles.title_id\n",
    "INNER JOIN publishers ON titles.pub_id = publishers.pub_id;"
   ]
  },
  {
   "cell_type": "code",
   "execution_count": null,
   "metadata": {},
   "outputs": [],
   "source": [
    "#Challange2"
   ]
  },
  {
   "cell_type": "code",
   "execution_count": null,
   "metadata": {},
   "outputs": [],
   "source": [
    "SELECT authors.au_id 'AUTHOR ID',authors.au_lname 'LAST NAME',authors.au_fname 'FIRST NAME', publishers.pub_name 'PUBLISHER', COUNT(*) 'TITLE COUNT'\n",
    "FROM authors \n",
    "INNER JOIN titleauthor ON authors.au_id = titleauthor.au_id \n",
    "INNER JOIN titles ON titleauthor.title_id = titles.title_id\n",
    "INNER JOIN publishers ON titles.pub_id = publishers.pub_id\n",
    "GROUP BY authors.au_id, publishers.pub_name\n",
    "ORDER BY COUNT(*) DESC;"
   ]
  },
  {
   "cell_type": "code",
   "execution_count": null,
   "metadata": {},
   "outputs": [],
   "source": [
    "#Challange3"
   ]
  },
  {
   "cell_type": "code",
   "execution_count": null,
   "metadata": {},
   "outputs": [],
   "source": [
    "SELECT authors.au_id 'AUTHOR ID',authors.au_lname 'LAST NAME',authors.au_fname 'FIRST NAME', SUM(sales.qty) TOTAL\n",
    "FROM authors \n",
    "INNER JOIN titleauthor ON authors.au_id = titleauthor.au_id \n",
    "INNER JOIN titles ON titleauthor.title_id = titles.title_id\n",
    "INNER JOIN sales ON titles.title_id = sales.title_id\n",
    "GROUP BY authors.au_id\n",
    "ORDER BY TOTAL DESC\n",
    "LIMIT 3"
   ]
  },
  {
   "cell_type": "code",
   "execution_count": null,
   "metadata": {},
   "outputs": [],
   "source": [
    "#Challange4"
   ]
  },
  {
   "cell_type": "code",
   "execution_count": null,
   "metadata": {},
   "outputs": [],
   "source": [
    "SELECT authors.au_id 'AUTHOR ID',authors.au_lname 'LAST NAME',authors.au_fname 'FIRST NAME', COALESCE(SUM(sales.qty),0) TOTAL\n",
    "FROM authors \n",
    "LEFT JOIN titleauthor ON authors.au_id = titleauthor.au_id \n",
    "LEFT JOIN titles ON titleauthor.title_id = titles.title_id\n",
    "LEFT JOIN sales ON titles.title_id = sales.title_id\n",
    "GROUP BY authors.au_id\n",
    "ORDER BY TOTAL DESC"
   ]
  }
 ],
 "metadata": {
  "kernelspec": {
   "display_name": "Python 3",
   "language": "python",
   "name": "python3"
  },
  "language_info": {
   "codemirror_mode": {
    "name": "ipython",
    "version": 3
   },
   "file_extension": ".py",
   "mimetype": "text/x-python",
   "name": "python",
   "nbconvert_exporter": "python",
   "pygments_lexer": "ipython3",
   "version": "3.8.2"
  }
 },
 "nbformat": 4,
 "nbformat_minor": 4
}
