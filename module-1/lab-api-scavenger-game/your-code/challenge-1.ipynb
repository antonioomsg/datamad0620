{
 "cells": [
  {
   "cell_type": "code",
   "execution_count": 72,
   "metadata": {},
   "outputs": [],
   "source": [
    "import os\n",
    "import json\n",
    "from dotenv import load_dotenv\n",
    "load_dotenv()\n",
    "import requests\n"
   ]
  },
  {
   "cell_type": "code",
   "execution_count": 82,
   "metadata": {},
   "outputs": [],
   "source": [
    "def getFromGithub(endpoint, queryParams={}):\n",
    "    url = f\"https://api.github.com{endpoint}\"\n",
    "\n",
    "    apiKey = os.getenv(\"pk\")\n",
    "    if not apiKey:\n",
    "        raise ValueError(\"Please setup the GITHUB_APIKEY env variable\")\n",
    "    headers = {\n",
    "        \"Authorization\": f\"token {apiKey}\"\n",
    "    }\n",
    "    \n",
    "    res = requests.get(url, headers=headers, params=queryParams)\n",
    "    print(res.url)\n",
    "    return res.json()\n",
    "    "
   ]
  },
  {
   "cell_type": "code",
   "execution_count": 83,
   "metadata": {},
   "outputs": [
    {
     "name": "stdout",
     "output_type": "stream",
     "text": [
      "https://api.github.com/repos/ironhack-datalabs/datamad0620/forks\n"
     ]
    }
   ],
   "source": [
    "n_forks = getFromGithub(\"/repos/ironhack-datalabs/datamad0620/forks\")"
   ]
  },
  {
   "cell_type": "code",
   "execution_count": 87,
   "metadata": {},
   "outputs": [
    {
     "data": {
      "text/plain": [
       "23"
      ]
     },
     "execution_count": 87,
     "metadata": {},
     "output_type": "execute_result"
    }
   ],
   "source": [
    "len(n_forks)\n",
    "\n"
   ]
  },
  {
   "cell_type": "code",
   "execution_count": 102,
   "metadata": {
    "scrolled": true
   },
   "outputs": [
    {
     "name": "stdout",
     "output_type": "stream",
     "text": [
      "<class 'list'>\n"
     ]
    }
   ],
   "source": [
    "n_forks\n",
    "print(type(n_forks))"
   ]
  },
  {
   "cell_type": "code",
   "execution_count": 126,
   "metadata": {},
   "outputs": [
    {
     "name": "stdout",
     "output_type": "stream",
     "text": [
      "None\n"
     ]
    }
   ],
   "source": [
    "print(n_forks[2][\"language\"])"
   ]
  },
  {
   "cell_type": "code",
   "execution_count": 140,
   "metadata": {},
   "outputs": [],
   "source": [
    "array=[]\n",
    "for i in range (len(n_forks)):\n",
    "    array.append(n_forks[i][\"language\"])\n",
    "\n",
    "#No consigo hacerlo con una conprehension"
   ]
  },
  {
   "cell_type": "code",
   "execution_count": 141,
   "metadata": {},
   "outputs": [
    {
     "data": {
      "text/plain": [
       "{'Jupyter Notebook', None}"
      ]
     },
     "execution_count": 141,
     "metadata": {},
     "output_type": "execute_result"
    }
   ],
   "source": [
    "set(array)"
   ]
  },
  {
   "cell_type": "code",
   "execution_count": null,
   "metadata": {},
   "outputs": [],
   "source": [
    "GET /repos/:owner/:repo/contributors"
   ]
  },
  {
   "cell_type": "code",
   "execution_count": 146,
   "metadata": {},
   "outputs": [
    {
     "name": "stdout",
     "output_type": "stream",
     "text": [
      "https://api.github.com/repos/ironhack-datalabs/datamad0620/commits\n"
     ]
    }
   ],
   "source": [
    "contributors= getFromGithub(\"/repos/ironhack-datalabs/datamad0620/commits\")"
   ]
  },
  {
   "cell_type": "code",
   "execution_count": 150,
   "metadata": {},
   "outputs": [
    {
     "name": "stdout",
     "output_type": "stream",
     "text": [
      "sha\n",
      "node_id\n",
      "commit\n",
      "url\n",
      "html_url\n",
      "comments_url\n",
      "author\n",
      "committer\n",
      "parents\n",
      "sha\n",
      "node_id\n",
      "commit\n",
      "url\n",
      "html_url\n",
      "comments_url\n",
      "author\n",
      "committer\n",
      "parents\n",
      "sha\n",
      "node_id\n",
      "commit\n",
      "url\n",
      "html_url\n",
      "comments_url\n",
      "author\n",
      "committer\n",
      "parents\n",
      "sha\n",
      "node_id\n",
      "commit\n",
      "url\n",
      "html_url\n",
      "comments_url\n",
      "author\n",
      "committer\n",
      "parents\n"
     ]
    }
   ],
   "source": [
    "for i in contributors:\n",
    "    for x in i:\n",
    "        print(x)"
   ]
  },
  {
   "cell_type": "code",
   "execution_count": 149,
   "metadata": {},
   "outputs": [
    {
     "data": {
      "text/plain": [
       "4"
      ]
     },
     "execution_count": 149,
     "metadata": {},
     "output_type": "execute_result"
    }
   ],
   "source": [
    "len(contributors)"
   ]
  },
  {
   "cell_type": "code",
   "execution_count": 151,
   "metadata": {},
   "outputs": [
    {
     "data": {
      "text/plain": [
       "[{'sha': '1369c4b0617a22ec789d04cb2cac81fe7a155fbd',\n",
       "  'node_id': 'MDY6Q29tbWl0MjY4NTA5NDIxOjEzNjljNGIwNjE3YTIyZWM3ODlkMDRjYjJjYWM4MWZlN2ExNTVmYmQ=',\n",
       "  'commit': {'author': {'name': 'Marc Pomar',\n",
       "    'email': 'marc@faable.com',\n",
       "    'date': '2020-06-01T11:28:14Z'},\n",
       "   'committer': {'name': 'Marc Pomar',\n",
       "    'email': 'marc@faable.com',\n",
       "    'date': '2020-06-01T11:28:14Z'},\n",
       "   'message': 'ejercicio completado',\n",
       "   'tree': {'sha': '489bdb97e8020c4e9e5c64c81f2195964723517e',\n",
       "    'url': 'https://api.github.com/repos/ironhack-datalabs/datamad0620/git/trees/489bdb97e8020c4e9e5c64c81f2195964723517e'},\n",
       "   'url': 'https://api.github.com/repos/ironhack-datalabs/datamad0620/git/commits/1369c4b0617a22ec789d04cb2cac81fe7a155fbd',\n",
       "   'comment_count': 0,\n",
       "   'verification': {'verified': False,\n",
       "    'reason': 'unsigned',\n",
       "    'signature': None,\n",
       "    'payload': None}},\n",
       "  'url': 'https://api.github.com/repos/ironhack-datalabs/datamad0620/commits/1369c4b0617a22ec789d04cb2cac81fe7a155fbd',\n",
       "  'html_url': 'https://github.com/ironhack-datalabs/datamad0620/commit/1369c4b0617a22ec789d04cb2cac81fe7a155fbd',\n",
       "  'comments_url': 'https://api.github.com/repos/ironhack-datalabs/datamad0620/commits/1369c4b0617a22ec789d04cb2cac81fe7a155fbd/comments',\n",
       "  'author': {'login': 'boyander',\n",
       "   'id': 568638,\n",
       "   'node_id': 'MDQ6VXNlcjU2ODYzOA==',\n",
       "   'avatar_url': 'https://avatars1.githubusercontent.com/u/568638?v=4',\n",
       "   'gravatar_id': '',\n",
       "   'url': 'https://api.github.com/users/boyander',\n",
       "   'html_url': 'https://github.com/boyander',\n",
       "   'followers_url': 'https://api.github.com/users/boyander/followers',\n",
       "   'following_url': 'https://api.github.com/users/boyander/following{/other_user}',\n",
       "   'gists_url': 'https://api.github.com/users/boyander/gists{/gist_id}',\n",
       "   'starred_url': 'https://api.github.com/users/boyander/starred{/owner}{/repo}',\n",
       "   'subscriptions_url': 'https://api.github.com/users/boyander/subscriptions',\n",
       "   'organizations_url': 'https://api.github.com/users/boyander/orgs',\n",
       "   'repos_url': 'https://api.github.com/users/boyander/repos',\n",
       "   'events_url': 'https://api.github.com/users/boyander/events{/privacy}',\n",
       "   'received_events_url': 'https://api.github.com/users/boyander/received_events',\n",
       "   'type': 'User',\n",
       "   'site_admin': False},\n",
       "  'committer': {'login': 'boyander',\n",
       "   'id': 568638,\n",
       "   'node_id': 'MDQ6VXNlcjU2ODYzOA==',\n",
       "   'avatar_url': 'https://avatars1.githubusercontent.com/u/568638?v=4',\n",
       "   'gravatar_id': '',\n",
       "   'url': 'https://api.github.com/users/boyander',\n",
       "   'html_url': 'https://github.com/boyander',\n",
       "   'followers_url': 'https://api.github.com/users/boyander/followers',\n",
       "   'following_url': 'https://api.github.com/users/boyander/following{/other_user}',\n",
       "   'gists_url': 'https://api.github.com/users/boyander/gists{/gist_id}',\n",
       "   'starred_url': 'https://api.github.com/users/boyander/starred{/owner}{/repo}',\n",
       "   'subscriptions_url': 'https://api.github.com/users/boyander/subscriptions',\n",
       "   'organizations_url': 'https://api.github.com/users/boyander/orgs',\n",
       "   'repos_url': 'https://api.github.com/users/boyander/repos',\n",
       "   'events_url': 'https://api.github.com/users/boyander/events{/privacy}',\n",
       "   'received_events_url': 'https://api.github.com/users/boyander/received_events',\n",
       "   'type': 'User',\n",
       "   'site_admin': False},\n",
       "  'parents': [{'sha': '6ff3bc11c87a4e7b729c62499bd52117e6eff71d',\n",
       "    'url': 'https://api.github.com/repos/ironhack-datalabs/datamad0620/commits/6ff3bc11c87a4e7b729c62499bd52117e6eff71d',\n",
       "    'html_url': 'https://github.com/ironhack-datalabs/datamad0620/commit/6ff3bc11c87a4e7b729c62499bd52117e6eff71d'}]},\n",
       " {'sha': '6ff3bc11c87a4e7b729c62499bd52117e6eff71d',\n",
       "  'node_id': 'MDY6Q29tbWl0MjY4NTA5NDIxOjZmZjNiYzExYzg3YTRlN2I3MjljNjI0OTliZDUyMTE3ZTZlZmY3MWQ=',\n",
       "  'commit': {'author': {'name': 'Felipe Ferrero',\n",
       "    'email': '52798316+ferrero-felipe@users.noreply.github.com',\n",
       "    'date': '2020-03-27T15:03:10Z'},\n",
       "   'committer': {'name': 'GitHub',\n",
       "    'email': 'noreply@github.com',\n",
       "    'date': '2020-03-27T15:03:10Z'},\n",
       "   'message': 'Merge pull request #133 from ferrero-felipe/master\\n\\nadding __pycache__/ to gitignore',\n",
       "   'tree': {'sha': 'a26220c1db1e2ef8847c8e3e712ad38f8a0e62e1',\n",
       "    'url': 'https://api.github.com/repos/ironhack-datalabs/datamad0620/git/trees/a26220c1db1e2ef8847c8e3e712ad38f8a0e62e1'},\n",
       "   'url': 'https://api.github.com/repos/ironhack-datalabs/datamad0620/git/commits/6ff3bc11c87a4e7b729c62499bd52117e6eff71d',\n",
       "   'comment_count': 0,\n",
       "   'verification': {'verified': True,\n",
       "    'reason': 'valid',\n",
       "    'signature': '-----BEGIN PGP SIGNATURE-----\\n\\nwsBcBAABCAAQBQJefhWuCRBK7hj4Ov3rIwAAdHIIABGxWDbsjSQcQ5wm9no+JHpV\\nKODJ9gfSAUDC/+BvmuhvuLO73RoH213V+Kfc4oM86Jl/UGl0/wgjaiVljjiQcilg\\nPHBJnp4xVLHfZeUgjeIgdytMOPZ24XaFG07Nai1R1ScLxP4gSydZQmMxhwCq+3b2\\n6/9Q3GmjDt56Jmibtr1DxtM8kfoCivc0M1xOXPNeChEHe4EyqPcl6NmcyzlwMhjf\\nNfzhDXLi57LShuBszV4UAYgyeymAmuc9+VE6d6fr8tYNQ+HXrqKqePvFL17TvUfq\\n4qsbsmTcEjb6A8FyBIroq5kzmiHO1p9xJz+JtP8fD/EkUvLOGKl1P2IcxCFAnMs=\\n=FocB\\n-----END PGP SIGNATURE-----\\n',\n",
       "    'payload': 'tree a26220c1db1e2ef8847c8e3e712ad38f8a0e62e1\\nparent c9d3b913fdb50a35a52778f53a928d5d3a6ec746\\nparent 817303f225cef4dd5a4c7eb9e213d1be212f51d2\\nauthor Felipe Ferrero <52798316+ferrero-felipe@users.noreply.github.com> 1585321390 +0100\\ncommitter GitHub <noreply@github.com> 1585321390 +0100\\n\\nMerge pull request #133 from ferrero-felipe/master\\n\\nadding __pycache__/ to gitignore'}},\n",
       "  'url': 'https://api.github.com/repos/ironhack-datalabs/datamad0620/commits/6ff3bc11c87a4e7b729c62499bd52117e6eff71d',\n",
       "  'html_url': 'https://github.com/ironhack-datalabs/datamad0620/commit/6ff3bc11c87a4e7b729c62499bd52117e6eff71d',\n",
       "  'comments_url': 'https://api.github.com/repos/ironhack-datalabs/datamad0620/commits/6ff3bc11c87a4e7b729c62499bd52117e6eff71d/comments',\n",
       "  'author': {'login': 'ferrero-felipe',\n",
       "   'id': 52798316,\n",
       "   'node_id': 'MDQ6VXNlcjUyNzk4MzE2',\n",
       "   'avatar_url': 'https://avatars2.githubusercontent.com/u/52798316?v=4',\n",
       "   'gravatar_id': '',\n",
       "   'url': 'https://api.github.com/users/ferrero-felipe',\n",
       "   'html_url': 'https://github.com/ferrero-felipe',\n",
       "   'followers_url': 'https://api.github.com/users/ferrero-felipe/followers',\n",
       "   'following_url': 'https://api.github.com/users/ferrero-felipe/following{/other_user}',\n",
       "   'gists_url': 'https://api.github.com/users/ferrero-felipe/gists{/gist_id}',\n",
       "   'starred_url': 'https://api.github.com/users/ferrero-felipe/starred{/owner}{/repo}',\n",
       "   'subscriptions_url': 'https://api.github.com/users/ferrero-felipe/subscriptions',\n",
       "   'organizations_url': 'https://api.github.com/users/ferrero-felipe/orgs',\n",
       "   'repos_url': 'https://api.github.com/users/ferrero-felipe/repos',\n",
       "   'events_url': 'https://api.github.com/users/ferrero-felipe/events{/privacy}',\n",
       "   'received_events_url': 'https://api.github.com/users/ferrero-felipe/received_events',\n",
       "   'type': 'User',\n",
       "   'site_admin': False},\n",
       "  'committer': {'login': 'web-flow',\n",
       "   'id': 19864447,\n",
       "   'node_id': 'MDQ6VXNlcjE5ODY0NDQ3',\n",
       "   'avatar_url': 'https://avatars3.githubusercontent.com/u/19864447?v=4',\n",
       "   'gravatar_id': '',\n",
       "   'url': 'https://api.github.com/users/web-flow',\n",
       "   'html_url': 'https://github.com/web-flow',\n",
       "   'followers_url': 'https://api.github.com/users/web-flow/followers',\n",
       "   'following_url': 'https://api.github.com/users/web-flow/following{/other_user}',\n",
       "   'gists_url': 'https://api.github.com/users/web-flow/gists{/gist_id}',\n",
       "   'starred_url': 'https://api.github.com/users/web-flow/starred{/owner}{/repo}',\n",
       "   'subscriptions_url': 'https://api.github.com/users/web-flow/subscriptions',\n",
       "   'organizations_url': 'https://api.github.com/users/web-flow/orgs',\n",
       "   'repos_url': 'https://api.github.com/users/web-flow/repos',\n",
       "   'events_url': 'https://api.github.com/users/web-flow/events{/privacy}',\n",
       "   'received_events_url': 'https://api.github.com/users/web-flow/received_events',\n",
       "   'type': 'User',\n",
       "   'site_admin': False},\n",
       "  'parents': [{'sha': 'c9d3b913fdb50a35a52778f53a928d5d3a6ec746',\n",
       "    'url': 'https://api.github.com/repos/ironhack-datalabs/datamad0620/commits/c9d3b913fdb50a35a52778f53a928d5d3a6ec746',\n",
       "    'html_url': 'https://github.com/ironhack-datalabs/datamad0620/commit/c9d3b913fdb50a35a52778f53a928d5d3a6ec746'},\n",
       "   {'sha': '817303f225cef4dd5a4c7eb9e213d1be212f51d2',\n",
       "    'url': 'https://api.github.com/repos/ironhack-datalabs/datamad0620/commits/817303f225cef4dd5a4c7eb9e213d1be212f51d2',\n",
       "    'html_url': 'https://github.com/ironhack-datalabs/datamad0620/commit/817303f225cef4dd5a4c7eb9e213d1be212f51d2'}]},\n",
       " {'sha': '817303f225cef4dd5a4c7eb9e213d1be212f51d2',\n",
       "  'node_id': 'MDY6Q29tbWl0MjY4NTA5NDIxOjgxNzMwM2YyMjVjZWY0ZGQ1YTRjN2ViOWUyMTNkMWJlMjEyZjUxZDI=',\n",
       "  'commit': {'author': {'name': 'ferrero-felipe',\n",
       "    'email': 'ferrero.felipe@gmail.com',\n",
       "    'date': '2020-03-27T14:59:56Z'},\n",
       "   'committer': {'name': 'ferrero-felipe',\n",
       "    'email': 'ferrero.felipe@gmail.com',\n",
       "    'date': '2020-03-27T14:59:56Z'},\n",
       "   'message': 'adding __pycache__/ to gitignore',\n",
       "   'tree': {'sha': 'a26220c1db1e2ef8847c8e3e712ad38f8a0e62e1',\n",
       "    'url': 'https://api.github.com/repos/ironhack-datalabs/datamad0620/git/trees/a26220c1db1e2ef8847c8e3e712ad38f8a0e62e1'},\n",
       "   'url': 'https://api.github.com/repos/ironhack-datalabs/datamad0620/git/commits/817303f225cef4dd5a4c7eb9e213d1be212f51d2',\n",
       "   'comment_count': 0,\n",
       "   'verification': {'verified': False,\n",
       "    'reason': 'unsigned',\n",
       "    'signature': None,\n",
       "    'payload': None}},\n",
       "  'url': 'https://api.github.com/repos/ironhack-datalabs/datamad0620/commits/817303f225cef4dd5a4c7eb9e213d1be212f51d2',\n",
       "  'html_url': 'https://github.com/ironhack-datalabs/datamad0620/commit/817303f225cef4dd5a4c7eb9e213d1be212f51d2',\n",
       "  'comments_url': 'https://api.github.com/repos/ironhack-datalabs/datamad0620/commits/817303f225cef4dd5a4c7eb9e213d1be212f51d2/comments',\n",
       "  'author': {'login': 'ferrero-felipe',\n",
       "   'id': 52798316,\n",
       "   'node_id': 'MDQ6VXNlcjUyNzk4MzE2',\n",
       "   'avatar_url': 'https://avatars2.githubusercontent.com/u/52798316?v=4',\n",
       "   'gravatar_id': '',\n",
       "   'url': 'https://api.github.com/users/ferrero-felipe',\n",
       "   'html_url': 'https://github.com/ferrero-felipe',\n",
       "   'followers_url': 'https://api.github.com/users/ferrero-felipe/followers',\n",
       "   'following_url': 'https://api.github.com/users/ferrero-felipe/following{/other_user}',\n",
       "   'gists_url': 'https://api.github.com/users/ferrero-felipe/gists{/gist_id}',\n",
       "   'starred_url': 'https://api.github.com/users/ferrero-felipe/starred{/owner}{/repo}',\n",
       "   'subscriptions_url': 'https://api.github.com/users/ferrero-felipe/subscriptions',\n",
       "   'organizations_url': 'https://api.github.com/users/ferrero-felipe/orgs',\n",
       "   'repos_url': 'https://api.github.com/users/ferrero-felipe/repos',\n",
       "   'events_url': 'https://api.github.com/users/ferrero-felipe/events{/privacy}',\n",
       "   'received_events_url': 'https://api.github.com/users/ferrero-felipe/received_events',\n",
       "   'type': 'User',\n",
       "   'site_admin': False},\n",
       "  'committer': {'login': 'ferrero-felipe',\n",
       "   'id': 52798316,\n",
       "   'node_id': 'MDQ6VXNlcjUyNzk4MzE2',\n",
       "   'avatar_url': 'https://avatars2.githubusercontent.com/u/52798316?v=4',\n",
       "   'gravatar_id': '',\n",
       "   'url': 'https://api.github.com/users/ferrero-felipe',\n",
       "   'html_url': 'https://github.com/ferrero-felipe',\n",
       "   'followers_url': 'https://api.github.com/users/ferrero-felipe/followers',\n",
       "   'following_url': 'https://api.github.com/users/ferrero-felipe/following{/other_user}',\n",
       "   'gists_url': 'https://api.github.com/users/ferrero-felipe/gists{/gist_id}',\n",
       "   'starred_url': 'https://api.github.com/users/ferrero-felipe/starred{/owner}{/repo}',\n",
       "   'subscriptions_url': 'https://api.github.com/users/ferrero-felipe/subscriptions',\n",
       "   'organizations_url': 'https://api.github.com/users/ferrero-felipe/orgs',\n",
       "   'repos_url': 'https://api.github.com/users/ferrero-felipe/repos',\n",
       "   'events_url': 'https://api.github.com/users/ferrero-felipe/events{/privacy}',\n",
       "   'received_events_url': 'https://api.github.com/users/ferrero-felipe/received_events',\n",
       "   'type': 'User',\n",
       "   'site_admin': False},\n",
       "  'parents': [{'sha': 'c9d3b913fdb50a35a52778f53a928d5d3a6ec746',\n",
       "    'url': 'https://api.github.com/repos/ironhack-datalabs/datamad0620/commits/c9d3b913fdb50a35a52778f53a928d5d3a6ec746',\n",
       "    'html_url': 'https://github.com/ironhack-datalabs/datamad0620/commit/c9d3b913fdb50a35a52778f53a928d5d3a6ec746'}]},\n",
       " {'sha': 'c9d3b913fdb50a35a52778f53a928d5d3a6ec746',\n",
       "  'node_id': 'MDY6Q29tbWl0MjY4NTA5NDIxOmM5ZDNiOTEzZmRiNTBhMzVhNTI3NzhmNTNhOTI4ZDVkM2E2ZWM3NDY=',\n",
       "  'commit': {'author': {'name': 'Marc Pomar',\n",
       "    'email': 'marc@faable.com',\n",
       "    'date': '2020-03-23T11:31:26Z'},\n",
       "   'committer': {'name': 'Marc Pomar',\n",
       "    'email': 'marc@faable.com',\n",
       "    'date': '2020-03-23T11:31:26Z'},\n",
       "   'message': 'hola',\n",
       "   'tree': {'sha': '118a8f97daba7d501114eebf2dafce3856382459',\n",
       "    'url': 'https://api.github.com/repos/ironhack-datalabs/datamad0620/git/trees/118a8f97daba7d501114eebf2dafce3856382459'},\n",
       "   'url': 'https://api.github.com/repos/ironhack-datalabs/datamad0620/git/commits/c9d3b913fdb50a35a52778f53a928d5d3a6ec746',\n",
       "   'comment_count': 0,\n",
       "   'verification': {'verified': False,\n",
       "    'reason': 'unsigned',\n",
       "    'signature': None,\n",
       "    'payload': None}},\n",
       "  'url': 'https://api.github.com/repos/ironhack-datalabs/datamad0620/commits/c9d3b913fdb50a35a52778f53a928d5d3a6ec746',\n",
       "  'html_url': 'https://github.com/ironhack-datalabs/datamad0620/commit/c9d3b913fdb50a35a52778f53a928d5d3a6ec746',\n",
       "  'comments_url': 'https://api.github.com/repos/ironhack-datalabs/datamad0620/commits/c9d3b913fdb50a35a52778f53a928d5d3a6ec746/comments',\n",
       "  'author': {'login': 'boyander',\n",
       "   'id': 568638,\n",
       "   'node_id': 'MDQ6VXNlcjU2ODYzOA==',\n",
       "   'avatar_url': 'https://avatars1.githubusercontent.com/u/568638?v=4',\n",
       "   'gravatar_id': '',\n",
       "   'url': 'https://api.github.com/users/boyander',\n",
       "   'html_url': 'https://github.com/boyander',\n",
       "   'followers_url': 'https://api.github.com/users/boyander/followers',\n",
       "   'following_url': 'https://api.github.com/users/boyander/following{/other_user}',\n",
       "   'gists_url': 'https://api.github.com/users/boyander/gists{/gist_id}',\n",
       "   'starred_url': 'https://api.github.com/users/boyander/starred{/owner}{/repo}',\n",
       "   'subscriptions_url': 'https://api.github.com/users/boyander/subscriptions',\n",
       "   'organizations_url': 'https://api.github.com/users/boyander/orgs',\n",
       "   'repos_url': 'https://api.github.com/users/boyander/repos',\n",
       "   'events_url': 'https://api.github.com/users/boyander/events{/privacy}',\n",
       "   'received_events_url': 'https://api.github.com/users/boyander/received_events',\n",
       "   'type': 'User',\n",
       "   'site_admin': False},\n",
       "  'committer': {'login': 'boyander',\n",
       "   'id': 568638,\n",
       "   'node_id': 'MDQ6VXNlcjU2ODYzOA==',\n",
       "   'avatar_url': 'https://avatars1.githubusercontent.com/u/568638?v=4',\n",
       "   'gravatar_id': '',\n",
       "   'url': 'https://api.github.com/users/boyander',\n",
       "   'html_url': 'https://github.com/boyander',\n",
       "   'followers_url': 'https://api.github.com/users/boyander/followers',\n",
       "   'following_url': 'https://api.github.com/users/boyander/following{/other_user}',\n",
       "   'gists_url': 'https://api.github.com/users/boyander/gists{/gist_id}',\n",
       "   'starred_url': 'https://api.github.com/users/boyander/starred{/owner}{/repo}',\n",
       "   'subscriptions_url': 'https://api.github.com/users/boyander/subscriptions',\n",
       "   'organizations_url': 'https://api.github.com/users/boyander/orgs',\n",
       "   'repos_url': 'https://api.github.com/users/boyander/repos',\n",
       "   'events_url': 'https://api.github.com/users/boyander/events{/privacy}',\n",
       "   'received_events_url': 'https://api.github.com/users/boyander/received_events',\n",
       "   'type': 'User',\n",
       "   'site_admin': False},\n",
       "  'parents': []}]"
      ]
     },
     "execution_count": 151,
     "metadata": {},
     "output_type": "execute_result"
    }
   ],
   "source": [
    "contributors"
   ]
  },
  {
   "cell_type": "code",
   "execution_count": 157,
   "metadata": {},
   "outputs": [
    {
     "data": {
      "text/plain": [
       "'2020-06-01T11:28:14Z'"
      ]
     },
     "execution_count": 157,
     "metadata": {},
     "output_type": "execute_result"
    }
   ],
   "source": [
    "contributors[0][\"commit\"][\"author\"][\"date\"]"
   ]
  },
  {
   "cell_type": "code",
   "execution_count": 164,
   "metadata": {},
   "outputs": [],
   "source": [
    "dates=[]\n",
    "for i in range(len(contributors)):\n",
    "    dates.append(contributors[i][\"commit\"][\"author\"][\"date\"])\n",
    "    "
   ]
  },
  {
   "cell_type": "code",
   "execution_count": 168,
   "metadata": {},
   "outputs": [
    {
     "data": {
      "text/plain": [
       "['2020-06-01T11:28:14Z',\n",
       " '2020-03-27T15:03:10Z',\n",
       " '2020-03-27T14:59:56Z',\n",
       " '2020-03-23T11:31:26Z']"
      ]
     },
     "execution_count": 168,
     "metadata": {},
     "output_type": "execute_result"
    }
   ],
   "source": [
    "dates \n",
    "#Mi idea era pasar estas fechas a unix y solo coger las del ultimo año. Pero he visto que hay query parameters :)"
   ]
  },
  {
   "cell_type": "code",
   "execution_count": 176,
   "metadata": {},
   "outputs": [
    {
     "name": "stdout",
     "output_type": "stream",
     "text": [
      "https://api.github.com/repos/ironhack-datalabs/datamad0620/commits?since=2020-03-26\n"
     ]
    }
   ],
   "source": [
    "contributors= getFromGithub(\"/repos/ironhack-datalabs/datamad0620/commits?since=2020-03-26\")"
   ]
  },
  {
   "cell_type": "code",
   "execution_count": 177,
   "metadata": {},
   "outputs": [
    {
     "data": {
      "text/plain": [
       "3"
      ]
     },
     "execution_count": 177,
     "metadata": {},
     "output_type": "execute_result"
    }
   ],
   "source": [
    "len(contributors)"
   ]
  },
  {
   "cell_type": "code",
   "execution_count": null,
   "metadata": {},
   "outputs": [],
   "source": []
  }
 ],
 "metadata": {
  "kernelspec": {
   "display_name": "Python 3",
   "language": "python",
   "name": "python3"
  },
  "language_info": {
   "codemirror_mode": {
    "name": "ipython",
    "version": 3
   },
   "file_extension": ".py",
   "mimetype": "text/x-python",
   "name": "python",
   "nbconvert_exporter": "python",
   "pygments_lexer": "ipython3",
   "version": "3.8.2"
  }
 },
 "nbformat": 4,
 "nbformat_minor": 4
}
